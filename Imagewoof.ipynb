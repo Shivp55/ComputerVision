{
  "nbformat": 4,
  "nbformat_minor": 0,
  "metadata": {
    "colab": {
      "provenance": [],
      "gpuType": "T4",
      "authorship_tag": "ABX9TyNHtD2wHXdmC7IUwYUoSCUr",
      "include_colab_link": true
    },
    "kernelspec": {
      "name": "python3",
      "display_name": "Python 3"
    },
    "language_info": {
      "name": "python"
    },
    "accelerator": "GPU"
  },
  "cells": [
    {
      "cell_type": "markdown",
      "metadata": {
        "id": "view-in-github",
        "colab_type": "text"
      },
      "source": [
        "<a href=\"https://colab.research.google.com/github/Shivp55/ComputerVision/blob/main/Imagewoof.ipynb\" target=\"_parent\"><img src=\"https://colab.research.google.com/assets/colab-badge.svg\" alt=\"Open In Colab\"/></a>"
      ]
    },
    {
      "cell_type": "code",
      "execution_count": 14,
      "metadata": {
        "id": "VvPeVWwSEpP1"
      },
      "outputs": [],
      "source": [
        "import random\n",
        "import shutil\n",
        "import tensorflow as tf\n",
        "from tensorflow import keras\n",
        "import matplotlib.pyplot as plt\n",
        "import numpy as np\n",
        "from tensorflow.keras.preprocessing.image import ImageDataGenerator\n",
        "from tensorflow.keras.models import Model\n",
        "from tensorflow.keras.layers import Conv2D, MaxPooling2D, Activation, Flatten, Dropout, Dense, BatchNormalization\n",
        "from tensorflow.keras.models import Sequential\n",
        "import os\n",
        "from sklearn.metrics import classification_report\n",
        "from tensorflow.keras.optimizers import SGD\n",
        "from tensorflow.keras.callbacks import LearningRateScheduler"
      ]
    },
    {
      "cell_type": "code",
      "execution_count": 2,
      "metadata": {
        "colab": {
          "base_uri": "https://localhost:8080/"
        },
        "id": "AITBEgQZk1tX",
        "outputId": "ef36f444-fee8-4d8e-aad6-6785a126facc"
      },
      "outputs": [
        {
          "output_type": "stream",
          "name": "stdout",
          "text": [
            "Collecting split-folders\n",
            "  Downloading split_folders-0.5.1-py3-none-any.whl (8.4 kB)\n",
            "Installing collected packages: split-folders\n",
            "Successfully installed split-folders-0.5.1\n"
          ]
        }
      ],
      "source": [
        "pip install split-folders"
      ]
    },
    {
      "cell_type": "code",
      "execution_count": 3,
      "metadata": {
        "id": "GGVYG8mplIeY"
      },
      "outputs": [],
      "source": [
        "import splitfolders"
      ]
    },
    {
      "cell_type": "code",
      "execution_count": 4,
      "metadata": {
        "colab": {
          "base_uri": "https://localhost:8080/"
        },
        "id": "LCsNwk-ZKAfW",
        "outputId": "eafab476-9219-4612-9524-3cc95768f4c9"
      },
      "outputs": [
        {
          "output_type": "stream",
          "name": "stdout",
          "text": [
            "Mounted at /content/drive\n"
          ]
        }
      ],
      "source": [
        "from google.colab import drive\n",
        "drive.mount('/content/drive')"
      ]
    },
    {
      "cell_type": "code",
      "execution_count": 6,
      "metadata": {
        "colab": {
          "base_uri": "https://localhost:8080/",
          "height": 36
        },
        "id": "aNoj7vVet7lY",
        "outputId": "8b749c09-08cf-4b5c-cb80-c4eb9151cb13"
      },
      "outputs": [
        {
          "output_type": "execute_result",
          "data": {
            "text/plain": [
              "'/content/drive/MyDrive/imagewoof_1'"
            ],
            "application/vnd.google.colaboratory.intrinsic+json": {
              "type": "string"
            }
          },
          "metadata": {},
          "execution_count": 6
        }
      ],
      "source": [
        "import shutil\n",
        "\n",
        "# Source and destination folder paths\n",
        "source_folder_path = \"/content/drive/MyDrive/imagewoof-320\"\n",
        "destination_folder_path = \"/content/drive/MyDrive/imagewoof_1\"\n",
        "\n",
        "# Copy the folder recursively\n",
        "shutil.copytree(source_folder_path, destination_folder_path)\n"
      ]
    },
    {
      "cell_type": "markdown",
      "metadata": {
        "id": "2XPl2IaPmVuT"
      },
      "source": [
        "##Splitting the Data"
      ]
    },
    {
      "cell_type": "code",
      "execution_count": 8,
      "metadata": {
        "colab": {
          "base_uri": "https://localhost:8080/"
        },
        "id": "pPyhMydW2y9x",
        "outputId": "742017c3-1d20-461c-86cf-a2a04760362d"
      },
      "outputs": [
        {
          "output_type": "stream",
          "name": "stdout",
          "text": [
            "Files from 'n02111889' in the validation set copied to training set.\n",
            "Files from 'n02089973' in the validation set copied to training set.\n",
            "Files from 'n02099601' in the validation set copied to training set.\n",
            "Files from 'n02087394' in the validation set copied to training set.\n",
            "Files from 'n02088364' in the validation set copied to training set.\n",
            "Files from 'n02115641' in the validation set copied to training set.\n",
            "Files from 'n02086240' in the validation set copied to training set.\n",
            "Files from 'n02105641' in the validation set copied to training set.\n",
            "Files from 'n02096294' in the validation set copied to training set.\n",
            "Files from 'n02093754' in the validation set copied to training set.\n",
            "Copy process completed.\n"
          ]
        }
      ],
      "source": [
        "import os\n",
        "import shutil\n",
        "\n",
        "# Define paths to validation and training folders\n",
        "validation_folder = \"/content/drive/MyDrive/imagewoof_1/val\"\n",
        "training_folder = \"/content/drive/MyDrive/imagewoof_1/train\"\n",
        "\n",
        "# Iterate over class folders in the validation folder\n",
        "for class_folder in os.listdir(validation_folder):\n",
        "    class_folder_path = os.path.join(validation_folder, class_folder)\n",
        "    if os.path.isdir(class_folder_path):\n",
        "        # Check if the corresponding class folder exists in the training folder\n",
        "        training_class_folder_path = os.path.join(training_folder, class_folder)\n",
        "        if os.path.exists(training_class_folder_path):\n",
        "            # Iterate over files in the class folder of the validation set\n",
        "            for file_name in os.listdir(class_folder_path):\n",
        "                file_path = os.path.join(class_folder_path, file_name)\n",
        "                # Copy the file to the corresponding class folder in the training set\n",
        "                shutil.copy(file_path, training_class_folder_path)\n",
        "            print(f\"Files from '{class_folder}' in the validation set copied to training set.\")\n",
        "        else:\n",
        "            print(f\"Corresponding class folder '{class_folder}' does not exist in the training set.\")\n",
        "    else:\n",
        "        print(f\"'{class_folder}' is not a folder.\")\n",
        "\n",
        "print(\"Copy process completed.\")\n"
      ]
    },
    {
      "cell_type": "code",
      "execution_count": 9,
      "metadata": {
        "colab": {
          "base_uri": "https://localhost:8080/"
        },
        "id": "uu-L7iYmEMjg",
        "outputId": "404afd2d-9eab-40fc-db04-fae3bad5c906"
      },
      "outputs": [
        {
          "output_type": "stream",
          "name": "stdout",
          "text": [
            "Deleted class: n02089973\n",
            "Deleted class: n02111889\n",
            "Deleted class: n02099601\n",
            "Deleted class: n02088364\n",
            "Deleted class: n02105641\n",
            "Deleted class: n02087394\n"
          ]
        },
        {
          "output_type": "stream",
          "name": "stderr",
          "text": [
            "Copying files: 5400 files [01:39, 54.09 files/s]"
          ]
        },
        {
          "output_type": "stream",
          "name": "stdout",
          "text": [
            "Data processing completed successfully.\n"
          ]
        },
        {
          "output_type": "stream",
          "name": "stderr",
          "text": [
            "\n"
          ]
        }
      ],
      "source": [
        "import os\n",
        "import shutil\n",
        "import splitfolders\n",
        "\n",
        "# Define paths\n",
        "\n",
        "data_folder = '/content/drive/MyDrive/imagewoof_1'  # Update this with the path to your data folder\n",
        "output_folder = '/content/drive/MyDrive/imagewoof_final_split'\n",
        "\n",
        "\n",
        "train_folder = os.path.join(data_folder, 'train')\n",
        "\n",
        "\n",
        "# Step 3: Count number of images in each class folder\n",
        "class_image_count = {}\n",
        "for class_folder in os.listdir(train_folder):\n",
        "    class_path = os.path.join(train_folder, class_folder)\n",
        "    if os.path.isdir(class_path):  # Check if it's a directory\n",
        "        num_images = len(os.listdir(class_path))\n",
        "        class_image_count[class_folder] = num_images\n",
        "\n",
        "# Step 4: Sort classes based on the number of images\n",
        "sorted_classes = sorted(class_image_count.items(), key=lambda x: x[1])\n",
        "\n",
        "# Step 5: Delete the classes with the lowest number of images (4 classes)\n",
        "num_classes_to_delete = 6\n",
        "classes_to_delete = [class_name for class_name, _ in sorted_classes[:num_classes_to_delete]]\n",
        "\n",
        "for class_name in classes_to_delete:\n",
        "    class_path = os.path.join(train_folder, class_name)\n",
        "    shutil.rmtree(class_path)\n",
        "    print(f\"Deleted class: {class_name}\")\n",
        "\n",
        "\n",
        "# Step 6: Split data into train, validation, and test sets\n",
        "splitfolders.ratio(train_folder, output=output_folder, seed=42, ratio=(0.70, 0.15, 0.15))\n",
        "\n",
        "print(\"Data processing completed successfully.\")\n"
      ]
    },
    {
      "cell_type": "code",
      "execution_count": 10,
      "metadata": {
        "colab": {
          "base_uri": "https://localhost:8080/"
        },
        "id": "K46cd3Pw3aNM",
        "outputId": "7c0ea3b2-1301-41fc-eca4-ba4b656aa57c"
      },
      "outputs": [
        {
          "output_type": "stream",
          "name": "stdout",
          "text": [
            "Number of images per class in train set:\n",
            "n02096294: 944\n",
            "n02086240: 944\n",
            "n02093754: 944\n",
            "n02115641: 944\n",
            "Number of images per class in val set:\n",
            "n02096294: 202\n",
            "n02086240: 202\n",
            "n02093754: 202\n",
            "n02115641: 202\n",
            "Number of images per class in test set:\n",
            "n02096294: 204\n",
            "n02086240: 204\n",
            "n02093754: 204\n",
            "n02115641: 204\n"
          ]
        }
      ],
      "source": [
        "# Define the paths to the ImageNet datasets\n",
        "dataset_paths = {\n",
        "    'train': '/content/drive/MyDrive/imagewoof_final_split/train',\n",
        "    'val': '/content/drive/MyDrive/imagewoof_final_split/val',\n",
        "    'test': '/content/drive/MyDrive/imagewoof_final_split/test'\n",
        "}\n",
        "\n",
        "# Function to count the number of images in each class\n",
        "def count_images_per_class(dataset_folder):\n",
        "    class_counts = {}\n",
        "    for class_folder in os.listdir(dataset_folder):\n",
        "        class_path = os.path.join(dataset_folder, class_folder)\n",
        "        if os.path.isdir(class_path):\n",
        "            num_images = len(os.listdir(class_path))\n",
        "            class_counts[class_folder] = num_images\n",
        "    return class_counts\n",
        "\n",
        "# Iterate over dataset paths and count images for each\n",
        "for split, path in dataset_paths.items():\n",
        "    print(f\"Number of images per class in {split} set:\")\n",
        "    class_counts = count_images_per_class(path)\n",
        "    for class_name, count in class_counts.items():\n",
        "        print(f\"{class_name}: {count}\")"
      ]
    },
    {
      "cell_type": "code",
      "execution_count": null,
      "metadata": {
        "colab": {
          "base_uri": "https://localhost:8080/"
        },
        "id": "qN8PGQZ-IWRq",
        "outputId": "79ed55d7-1415-43b6-f984-e7811fae5f42"
      },
      "outputs": [
        {
          "name": "stdout",
          "output_type": "stream",
          "text": [
            "Renamed folder 'n03425413' in 'train' to 'gas_station'\n",
            "Renamed folder 'n03888257' in 'train' to 'parachute'\n",
            "Renamed folder 'n03445777' in 'train' to 'golf'\n",
            "Renamed folder 'n03394916' in 'train' to 'horn'\n",
            "Renamed folder 'n03028079' in 'train' to 'church'\n",
            "Renamed folder 'n03417042' in 'train' to 'garbage_truck'\n",
            "Renamed folder 'n03425413' in 'val' to 'gas_station'\n",
            "Renamed folder 'n03888257' in 'val' to 'parachute'\n",
            "Renamed folder 'n03445777' in 'val' to 'golf'\n",
            "Renamed folder 'n03394916' in 'val' to 'horn'\n",
            "Renamed folder 'n03028079' in 'val' to 'church'\n",
            "Renamed folder 'n03417042' in 'val' to 'garbage_truck'\n",
            "Renamed folder 'n03425413' in 'test' to 'gas_station'\n",
            "Renamed folder 'n03888257' in 'test' to 'parachute'\n",
            "Renamed folder 'n03445777' in 'test' to 'golf'\n",
            "Renamed folder 'n03394916' in 'test' to 'horn'\n",
            "Renamed folder 'n03028079' in 'test' to 'church'\n",
            "Renamed folder 'n03417042' in 'test' to 'garbage_truck'\n",
            "Folder renaming complete.\n"
          ]
        }
      ],
      "source": [
        "# Dictionary mapping original labels to new labels\n",
        "label_mapping = {\n",
        "    'n03425413': 'gas_station',\n",
        "    'n03888257': 'parachute',\n",
        "    'n03445777':'golf',\n",
        "    'n03394916':'horn',\n",
        "    'n03028079':'church',\n",
        "    'n03417042':'garbage_truck'\n",
        "}\n",
        "\n",
        "# List of data folders\n",
        "data_folders = ['train', 'val', 'test']\n",
        "\n",
        "# Path to your main dataset folder\n",
        "main_dataset_folder_path = '/content/Imagenet_final'\n",
        "\n",
        "# Iterate through each data folder\n",
        "for data_folder in data_folders:\n",
        "    # Path to the specific data folder (train, validation, or test)\n",
        "    dataset_folder_path = os.path.join(main_dataset_folder_path, data_folder)\n",
        "\n",
        "    # Iterate through folders and rename them\n",
        "    for original_label, new_label in label_mapping.items():\n",
        "        original_folder_path = os.path.join(dataset_folder_path, original_label)\n",
        "        new_folder_path = os.path.join(dataset_folder_path, new_label)\n",
        "        os.rename(original_folder_path, new_folder_path)\n",
        "        print(f\"Renamed folder '{original_label}' in '{data_folder}' to '{new_label}'\")\n",
        "\n",
        "print(\"Folder renaming complete.\")\n"
      ]
    },
    {
      "cell_type": "code",
      "source": [
        "#Data Augmentation\n",
        "from keras.preprocessing import image\n",
        "from keras.preprocessing.image import ImageDataGenerator\n",
        "\n",
        "\n",
        "#Building a Fine Tuned Model\n",
        "#generators\n",
        "batch_size=32\n",
        "\n",
        "train_datagen= ImageDataGenerator(\n",
        "      rescale=1./255,\n",
        "    rotation_range=45,  # Increase rotation range\n",
        "    shear_range=0.3,    # Increase shear range\n",
        "    zoom_range=0.3,     # Increase zoom range\n",
        "    horizontal_flip=True,\n",
        "    width_shift_range=0.3,\n",
        "    height_shift_range=0.3\n",
        ")\n",
        "val_datagen= ImageDataGenerator(\n",
        "     rescale=1./255,\n",
        "    rotation_range=45,  # Increase rotation range\n",
        "    shear_range=0.3,    # Increase shear range\n",
        "    zoom_range=0.3,     # Increase zoom range\n",
        "    horizontal_flip=True,\n",
        "    width_shift_range=0.3,\n",
        "    height_shift_range=0.3\n",
        ")\n",
        "test_datagen=ImageDataGenerator(rescale=1./255)"
      ],
      "metadata": {
        "id": "eJqHIHJYto53"
      },
      "execution_count": 12,
      "outputs": []
    },
    {
      "cell_type": "code",
      "execution_count": 26,
      "metadata": {
        "colab": {
          "base_uri": "https://localhost:8080/"
        },
        "id": "jy_nM0PwHrZC",
        "outputId": "0b5fc409-c70f-465d-ef8f-8cbeac02118a"
      },
      "outputs": [
        {
          "output_type": "stream",
          "name": "stdout",
          "text": [
            "Found 3776 images belonging to 4 classes.\n",
            "Found 808 images belonging to 4 classes.\n",
            "Found 816 images belonging to 4 classes.\n"
          ]
        }
      ],
      "source": [
        "#Generate Augmented Data\n",
        "train_generator=train_datagen.flow_from_directory(\n",
        "    '/content/drive/MyDrive/imagewoof_final_split/train',\n",
        "    target_size=(299,299),\n",
        "    batch_size=32,\n",
        "    class_mode='categorical'\n",
        ")\n",
        "validation_generator = val_datagen.flow_from_directory(\n",
        "'/content/drive/MyDrive/imagewoof_final_split/val',\n",
        " target_size=(299, 299),\n",
        " batch_size=32,\n",
        " class_mode='categorical')\n",
        "\n",
        "test_generator=test_datagen.flow_from_directory(\n",
        "    '/content/drive/MyDrive/imagewoof_final_split/test',\n",
        "    target_size=(299, 299),\n",
        "    batch_size=20,\n",
        "    class_mode='categorical'\n",
        ")"
      ]
    },
    {
      "cell_type": "code",
      "execution_count": 31,
      "metadata": {
        "colab": {
          "base_uri": "https://localhost:8080/"
        },
        "id": "VK31x05mP_-Y",
        "outputId": "e87d1535-3b7e-4fbf-f9ee-9b126fb3cc89"
      },
      "outputs": [
        {
          "output_type": "stream",
          "name": "stdout",
          "text": [
            "Model: \"model_5\"\n",
            "__________________________________________________________________________________________________\n",
            " Layer (type)                Output Shape                 Param #   Connected to                  \n",
            "==================================================================================================\n",
            " input_10 (InputLayer)       [(None, 299, 299, 3)]        0         []                            \n",
            "                                                                                                  \n",
            " conv2d_658 (Conv2D)         (None, 149, 149, 32)         864       ['input_10[0][0]']            \n",
            "                                                                                                  \n",
            " batch_normalization_658 (B  (None, 149, 149, 32)         96        ['conv2d_658[0][0]']          \n",
            " atchNormalization)                                                                               \n",
            "                                                                                                  \n",
            " activation_658 (Activation  (None, 149, 149, 32)         0         ['batch_normalization_658[0][0\n",
            " )                                                                  ]']                           \n",
            "                                                                                                  \n",
            " conv2d_659 (Conv2D)         (None, 147, 147, 32)         9216      ['activation_658[0][0]']      \n",
            "                                                                                                  \n",
            " batch_normalization_659 (B  (None, 147, 147, 32)         96        ['conv2d_659[0][0]']          \n",
            " atchNormalization)                                                                               \n",
            "                                                                                                  \n",
            " activation_659 (Activation  (None, 147, 147, 32)         0         ['batch_normalization_659[0][0\n",
            " )                                                                  ]']                           \n",
            "                                                                                                  \n",
            " conv2d_660 (Conv2D)         (None, 147, 147, 64)         18432     ['activation_659[0][0]']      \n",
            "                                                                                                  \n",
            " batch_normalization_660 (B  (None, 147, 147, 64)         192       ['conv2d_660[0][0]']          \n",
            " atchNormalization)                                                                               \n",
            "                                                                                                  \n",
            " activation_660 (Activation  (None, 147, 147, 64)         0         ['batch_normalization_660[0][0\n",
            " )                                                                  ]']                           \n",
            "                                                                                                  \n",
            " max_pooling2d_28 (MaxPooli  (None, 73, 73, 64)           0         ['activation_660[0][0]']      \n",
            " ng2D)                                                                                            \n",
            "                                                                                                  \n",
            " conv2d_661 (Conv2D)         (None, 73, 73, 80)           5120      ['max_pooling2d_28[0][0]']    \n",
            "                                                                                                  \n",
            " batch_normalization_661 (B  (None, 73, 73, 80)           240       ['conv2d_661[0][0]']          \n",
            " atchNormalization)                                                                               \n",
            "                                                                                                  \n",
            " activation_661 (Activation  (None, 73, 73, 80)           0         ['batch_normalization_661[0][0\n",
            " )                                                                  ]']                           \n",
            "                                                                                                  \n",
            " conv2d_662 (Conv2D)         (None, 71, 71, 192)          138240    ['activation_661[0][0]']      \n",
            "                                                                                                  \n",
            " batch_normalization_662 (B  (None, 71, 71, 192)          576       ['conv2d_662[0][0]']          \n",
            " atchNormalization)                                                                               \n",
            "                                                                                                  \n",
            " activation_662 (Activation  (None, 71, 71, 192)          0         ['batch_normalization_662[0][0\n",
            " )                                                                  ]']                           \n",
            "                                                                                                  \n",
            " max_pooling2d_29 (MaxPooli  (None, 35, 35, 192)          0         ['activation_662[0][0]']      \n",
            " ng2D)                                                                                            \n",
            "                                                                                                  \n",
            " conv2d_666 (Conv2D)         (None, 35, 35, 64)           12288     ['max_pooling2d_29[0][0]']    \n",
            "                                                                                                  \n",
            " batch_normalization_666 (B  (None, 35, 35, 64)           192       ['conv2d_666[0][0]']          \n",
            " atchNormalization)                                                                               \n",
            "                                                                                                  \n",
            " activation_666 (Activation  (None, 35, 35, 64)           0         ['batch_normalization_666[0][0\n",
            " )                                                                  ]']                           \n",
            "                                                                                                  \n",
            " conv2d_664 (Conv2D)         (None, 35, 35, 48)           9216      ['max_pooling2d_29[0][0]']    \n",
            "                                                                                                  \n",
            " conv2d_667 (Conv2D)         (None, 35, 35, 96)           55296     ['activation_666[0][0]']      \n",
            "                                                                                                  \n",
            " batch_normalization_664 (B  (None, 35, 35, 48)           144       ['conv2d_664[0][0]']          \n",
            " atchNormalization)                                                                               \n",
            "                                                                                                  \n",
            " batch_normalization_667 (B  (None, 35, 35, 96)           288       ['conv2d_667[0][0]']          \n",
            " atchNormalization)                                                                               \n",
            "                                                                                                  \n",
            " activation_664 (Activation  (None, 35, 35, 48)           0         ['batch_normalization_664[0][0\n",
            " )                                                                  ]']                           \n",
            "                                                                                                  \n",
            " activation_667 (Activation  (None, 35, 35, 96)           0         ['batch_normalization_667[0][0\n",
            " )                                                                  ]']                           \n",
            "                                                                                                  \n",
            " average_pooling2d_63 (Aver  (None, 35, 35, 192)          0         ['max_pooling2d_29[0][0]']    \n",
            " agePooling2D)                                                                                    \n",
            "                                                                                                  \n",
            " conv2d_663 (Conv2D)         (None, 35, 35, 64)           12288     ['max_pooling2d_29[0][0]']    \n",
            "                                                                                                  \n",
            " conv2d_665 (Conv2D)         (None, 35, 35, 64)           76800     ['activation_664[0][0]']      \n",
            "                                                                                                  \n",
            " conv2d_668 (Conv2D)         (None, 35, 35, 96)           82944     ['activation_667[0][0]']      \n",
            "                                                                                                  \n",
            " conv2d_669 (Conv2D)         (None, 35, 35, 32)           6144      ['average_pooling2d_63[0][0]']\n",
            "                                                                                                  \n",
            " batch_normalization_663 (B  (None, 35, 35, 64)           192       ['conv2d_663[0][0]']          \n",
            " atchNormalization)                                                                               \n",
            "                                                                                                  \n",
            " batch_normalization_665 (B  (None, 35, 35, 64)           192       ['conv2d_665[0][0]']          \n",
            " atchNormalization)                                                                               \n",
            "                                                                                                  \n",
            " batch_normalization_668 (B  (None, 35, 35, 96)           288       ['conv2d_668[0][0]']          \n",
            " atchNormalization)                                                                               \n",
            "                                                                                                  \n",
            " batch_normalization_669 (B  (None, 35, 35, 32)           96        ['conv2d_669[0][0]']          \n",
            " atchNormalization)                                                                               \n",
            "                                                                                                  \n",
            " activation_663 (Activation  (None, 35, 35, 64)           0         ['batch_normalization_663[0][0\n",
            " )                                                                  ]']                           \n",
            "                                                                                                  \n",
            " activation_665 (Activation  (None, 35, 35, 64)           0         ['batch_normalization_665[0][0\n",
            " )                                                                  ]']                           \n",
            "                                                                                                  \n",
            " activation_668 (Activation  (None, 35, 35, 96)           0         ['batch_normalization_668[0][0\n",
            " )                                                                  ]']                           \n",
            "                                                                                                  \n",
            " activation_669 (Activation  (None, 35, 35, 32)           0         ['batch_normalization_669[0][0\n",
            " )                                                                  ]']                           \n",
            "                                                                                                  \n",
            " mixed0 (Concatenate)        (None, 35, 35, 256)          0         ['activation_663[0][0]',      \n",
            "                                                                     'activation_665[0][0]',      \n",
            "                                                                     'activation_668[0][0]',      \n",
            "                                                                     'activation_669[0][0]']      \n",
            "                                                                                                  \n",
            " conv2d_673 (Conv2D)         (None, 35, 35, 64)           16384     ['mixed0[0][0]']              \n",
            "                                                                                                  \n",
            " batch_normalization_673 (B  (None, 35, 35, 64)           192       ['conv2d_673[0][0]']          \n",
            " atchNormalization)                                                                               \n",
            "                                                                                                  \n",
            " activation_673 (Activation  (None, 35, 35, 64)           0         ['batch_normalization_673[0][0\n",
            " )                                                                  ]']                           \n",
            "                                                                                                  \n",
            " conv2d_671 (Conv2D)         (None, 35, 35, 48)           12288     ['mixed0[0][0]']              \n",
            "                                                                                                  \n",
            " conv2d_674 (Conv2D)         (None, 35, 35, 96)           55296     ['activation_673[0][0]']      \n",
            "                                                                                                  \n",
            " batch_normalization_671 (B  (None, 35, 35, 48)           144       ['conv2d_671[0][0]']          \n",
            " atchNormalization)                                                                               \n",
            "                                                                                                  \n",
            " batch_normalization_674 (B  (None, 35, 35, 96)           288       ['conv2d_674[0][0]']          \n",
            " atchNormalization)                                                                               \n",
            "                                                                                                  \n",
            " activation_671 (Activation  (None, 35, 35, 48)           0         ['batch_normalization_671[0][0\n",
            " )                                                                  ]']                           \n",
            "                                                                                                  \n",
            " activation_674 (Activation  (None, 35, 35, 96)           0         ['batch_normalization_674[0][0\n",
            " )                                                                  ]']                           \n",
            "                                                                                                  \n",
            " average_pooling2d_64 (Aver  (None, 35, 35, 256)          0         ['mixed0[0][0]']              \n",
            " agePooling2D)                                                                                    \n",
            "                                                                                                  \n",
            " conv2d_670 (Conv2D)         (None, 35, 35, 64)           16384     ['mixed0[0][0]']              \n",
            "                                                                                                  \n",
            " conv2d_672 (Conv2D)         (None, 35, 35, 64)           76800     ['activation_671[0][0]']      \n",
            "                                                                                                  \n",
            " conv2d_675 (Conv2D)         (None, 35, 35, 96)           82944     ['activation_674[0][0]']      \n",
            "                                                                                                  \n",
            " conv2d_676 (Conv2D)         (None, 35, 35, 64)           16384     ['average_pooling2d_64[0][0]']\n",
            "                                                                                                  \n",
            " batch_normalization_670 (B  (None, 35, 35, 64)           192       ['conv2d_670[0][0]']          \n",
            " atchNormalization)                                                                               \n",
            "                                                                                                  \n",
            " batch_normalization_672 (B  (None, 35, 35, 64)           192       ['conv2d_672[0][0]']          \n",
            " atchNormalization)                                                                               \n",
            "                                                                                                  \n",
            " batch_normalization_675 (B  (None, 35, 35, 96)           288       ['conv2d_675[0][0]']          \n",
            " atchNormalization)                                                                               \n",
            "                                                                                                  \n",
            " batch_normalization_676 (B  (None, 35, 35, 64)           192       ['conv2d_676[0][0]']          \n",
            " atchNormalization)                                                                               \n",
            "                                                                                                  \n",
            " activation_670 (Activation  (None, 35, 35, 64)           0         ['batch_normalization_670[0][0\n",
            " )                                                                  ]']                           \n",
            "                                                                                                  \n",
            " activation_672 (Activation  (None, 35, 35, 64)           0         ['batch_normalization_672[0][0\n",
            " )                                                                  ]']                           \n",
            "                                                                                                  \n",
            " activation_675 (Activation  (None, 35, 35, 96)           0         ['batch_normalization_675[0][0\n",
            " )                                                                  ]']                           \n",
            "                                                                                                  \n",
            " activation_676 (Activation  (None, 35, 35, 64)           0         ['batch_normalization_676[0][0\n",
            " )                                                                  ]']                           \n",
            "                                                                                                  \n",
            " mixed1 (Concatenate)        (None, 35, 35, 288)          0         ['activation_670[0][0]',      \n",
            "                                                                     'activation_672[0][0]',      \n",
            "                                                                     'activation_675[0][0]',      \n",
            "                                                                     'activation_676[0][0]']      \n",
            "                                                                                                  \n",
            " conv2d_680 (Conv2D)         (None, 35, 35, 64)           18432     ['mixed1[0][0]']              \n",
            "                                                                                                  \n",
            " batch_normalization_680 (B  (None, 35, 35, 64)           192       ['conv2d_680[0][0]']          \n",
            " atchNormalization)                                                                               \n",
            "                                                                                                  \n",
            " activation_680 (Activation  (None, 35, 35, 64)           0         ['batch_normalization_680[0][0\n",
            " )                                                                  ]']                           \n",
            "                                                                                                  \n",
            " conv2d_678 (Conv2D)         (None, 35, 35, 48)           13824     ['mixed1[0][0]']              \n",
            "                                                                                                  \n",
            " conv2d_681 (Conv2D)         (None, 35, 35, 96)           55296     ['activation_680[0][0]']      \n",
            "                                                                                                  \n",
            " batch_normalization_678 (B  (None, 35, 35, 48)           144       ['conv2d_678[0][0]']          \n",
            " atchNormalization)                                                                               \n",
            "                                                                                                  \n",
            " batch_normalization_681 (B  (None, 35, 35, 96)           288       ['conv2d_681[0][0]']          \n",
            " atchNormalization)                                                                               \n",
            "                                                                                                  \n",
            " activation_678 (Activation  (None, 35, 35, 48)           0         ['batch_normalization_678[0][0\n",
            " )                                                                  ]']                           \n",
            "                                                                                                  \n",
            " activation_681 (Activation  (None, 35, 35, 96)           0         ['batch_normalization_681[0][0\n",
            " )                                                                  ]']                           \n",
            "                                                                                                  \n",
            " average_pooling2d_65 (Aver  (None, 35, 35, 288)          0         ['mixed1[0][0]']              \n",
            " agePooling2D)                                                                                    \n",
            "                                                                                                  \n",
            " conv2d_677 (Conv2D)         (None, 35, 35, 64)           18432     ['mixed1[0][0]']              \n",
            "                                                                                                  \n",
            " conv2d_679 (Conv2D)         (None, 35, 35, 64)           76800     ['activation_678[0][0]']      \n",
            "                                                                                                  \n",
            " conv2d_682 (Conv2D)         (None, 35, 35, 96)           82944     ['activation_681[0][0]']      \n",
            "                                                                                                  \n",
            " conv2d_683 (Conv2D)         (None, 35, 35, 64)           18432     ['average_pooling2d_65[0][0]']\n",
            "                                                                                                  \n",
            " batch_normalization_677 (B  (None, 35, 35, 64)           192       ['conv2d_677[0][0]']          \n",
            " atchNormalization)                                                                               \n",
            "                                                                                                  \n",
            " batch_normalization_679 (B  (None, 35, 35, 64)           192       ['conv2d_679[0][0]']          \n",
            " atchNormalization)                                                                               \n",
            "                                                                                                  \n",
            " batch_normalization_682 (B  (None, 35, 35, 96)           288       ['conv2d_682[0][0]']          \n",
            " atchNormalization)                                                                               \n",
            "                                                                                                  \n",
            " batch_normalization_683 (B  (None, 35, 35, 64)           192       ['conv2d_683[0][0]']          \n",
            " atchNormalization)                                                                               \n",
            "                                                                                                  \n",
            " activation_677 (Activation  (None, 35, 35, 64)           0         ['batch_normalization_677[0][0\n",
            " )                                                                  ]']                           \n",
            "                                                                                                  \n",
            " activation_679 (Activation  (None, 35, 35, 64)           0         ['batch_normalization_679[0][0\n",
            " )                                                                  ]']                           \n",
            "                                                                                                  \n",
            " activation_682 (Activation  (None, 35, 35, 96)           0         ['batch_normalization_682[0][0\n",
            " )                                                                  ]']                           \n",
            "                                                                                                  \n",
            " activation_683 (Activation  (None, 35, 35, 64)           0         ['batch_normalization_683[0][0\n",
            " )                                                                  ]']                           \n",
            "                                                                                                  \n",
            " mixed2 (Concatenate)        (None, 35, 35, 288)          0         ['activation_677[0][0]',      \n",
            "                                                                     'activation_679[0][0]',      \n",
            "                                                                     'activation_682[0][0]',      \n",
            "                                                                     'activation_683[0][0]']      \n",
            "                                                                                                  \n",
            " conv2d_685 (Conv2D)         (None, 35, 35, 64)           18432     ['mixed2[0][0]']              \n",
            "                                                                                                  \n",
            " batch_normalization_685 (B  (None, 35, 35, 64)           192       ['conv2d_685[0][0]']          \n",
            " atchNormalization)                                                                               \n",
            "                                                                                                  \n",
            " activation_685 (Activation  (None, 35, 35, 64)           0         ['batch_normalization_685[0][0\n",
            " )                                                                  ]']                           \n",
            "                                                                                                  \n",
            " conv2d_686 (Conv2D)         (None, 35, 35, 96)           55296     ['activation_685[0][0]']      \n",
            "                                                                                                  \n",
            " batch_normalization_686 (B  (None, 35, 35, 96)           288       ['conv2d_686[0][0]']          \n",
            " atchNormalization)                                                                               \n",
            "                                                                                                  \n",
            " activation_686 (Activation  (None, 35, 35, 96)           0         ['batch_normalization_686[0][0\n",
            " )                                                                  ]']                           \n",
            "                                                                                                  \n",
            " conv2d_684 (Conv2D)         (None, 17, 17, 384)          995328    ['mixed2[0][0]']              \n",
            "                                                                                                  \n",
            " conv2d_687 (Conv2D)         (None, 17, 17, 96)           82944     ['activation_686[0][0]']      \n",
            "                                                                                                  \n",
            " batch_normalization_684 (B  (None, 17, 17, 384)          1152      ['conv2d_684[0][0]']          \n",
            " atchNormalization)                                                                               \n",
            "                                                                                                  \n",
            " batch_normalization_687 (B  (None, 17, 17, 96)           288       ['conv2d_687[0][0]']          \n",
            " atchNormalization)                                                                               \n",
            "                                                                                                  \n",
            " activation_684 (Activation  (None, 17, 17, 384)          0         ['batch_normalization_684[0][0\n",
            " )                                                                  ]']                           \n",
            "                                                                                                  \n",
            " activation_687 (Activation  (None, 17, 17, 96)           0         ['batch_normalization_687[0][0\n",
            " )                                                                  ]']                           \n",
            "                                                                                                  \n",
            " max_pooling2d_30 (MaxPooli  (None, 17, 17, 288)          0         ['mixed2[0][0]']              \n",
            " ng2D)                                                                                            \n",
            "                                                                                                  \n",
            " mixed3 (Concatenate)        (None, 17, 17, 768)          0         ['activation_684[0][0]',      \n",
            "                                                                     'activation_687[0][0]',      \n",
            "                                                                     'max_pooling2d_30[0][0]']    \n",
            "                                                                                                  \n",
            " conv2d_692 (Conv2D)         (None, 17, 17, 128)          98304     ['mixed3[0][0]']              \n",
            "                                                                                                  \n",
            " batch_normalization_692 (B  (None, 17, 17, 128)          384       ['conv2d_692[0][0]']          \n",
            " atchNormalization)                                                                               \n",
            "                                                                                                  \n",
            " activation_692 (Activation  (None, 17, 17, 128)          0         ['batch_normalization_692[0][0\n",
            " )                                                                  ]']                           \n",
            "                                                                                                  \n",
            " conv2d_693 (Conv2D)         (None, 17, 17, 128)          114688    ['activation_692[0][0]']      \n",
            "                                                                                                  \n",
            " batch_normalization_693 (B  (None, 17, 17, 128)          384       ['conv2d_693[0][0]']          \n",
            " atchNormalization)                                                                               \n",
            "                                                                                                  \n",
            " activation_693 (Activation  (None, 17, 17, 128)          0         ['batch_normalization_693[0][0\n",
            " )                                                                  ]']                           \n",
            "                                                                                                  \n",
            " conv2d_689 (Conv2D)         (None, 17, 17, 128)          98304     ['mixed3[0][0]']              \n",
            "                                                                                                  \n",
            " conv2d_694 (Conv2D)         (None, 17, 17, 128)          114688    ['activation_693[0][0]']      \n",
            "                                                                                                  \n",
            " batch_normalization_689 (B  (None, 17, 17, 128)          384       ['conv2d_689[0][0]']          \n",
            " atchNormalization)                                                                               \n",
            "                                                                                                  \n",
            " batch_normalization_694 (B  (None, 17, 17, 128)          384       ['conv2d_694[0][0]']          \n",
            " atchNormalization)                                                                               \n",
            "                                                                                                  \n",
            " activation_689 (Activation  (None, 17, 17, 128)          0         ['batch_normalization_689[0][0\n",
            " )                                                                  ]']                           \n",
            "                                                                                                  \n",
            " activation_694 (Activation  (None, 17, 17, 128)          0         ['batch_normalization_694[0][0\n",
            " )                                                                  ]']                           \n",
            "                                                                                                  \n",
            " conv2d_690 (Conv2D)         (None, 17, 17, 128)          114688    ['activation_689[0][0]']      \n",
            "                                                                                                  \n",
            " conv2d_695 (Conv2D)         (None, 17, 17, 128)          114688    ['activation_694[0][0]']      \n",
            "                                                                                                  \n",
            " batch_normalization_690 (B  (None, 17, 17, 128)          384       ['conv2d_690[0][0]']          \n",
            " atchNormalization)                                                                               \n",
            "                                                                                                  \n",
            " batch_normalization_695 (B  (None, 17, 17, 128)          384       ['conv2d_695[0][0]']          \n",
            " atchNormalization)                                                                               \n",
            "                                                                                                  \n",
            " activation_690 (Activation  (None, 17, 17, 128)          0         ['batch_normalization_690[0][0\n",
            " )                                                                  ]']                           \n",
            "                                                                                                  \n",
            " activation_695 (Activation  (None, 17, 17, 128)          0         ['batch_normalization_695[0][0\n",
            " )                                                                  ]']                           \n",
            "                                                                                                  \n",
            " average_pooling2d_66 (Aver  (None, 17, 17, 768)          0         ['mixed3[0][0]']              \n",
            " agePooling2D)                                                                                    \n",
            "                                                                                                  \n",
            " conv2d_688 (Conv2D)         (None, 17, 17, 192)          147456    ['mixed3[0][0]']              \n",
            "                                                                                                  \n",
            " conv2d_691 (Conv2D)         (None, 17, 17, 192)          172032    ['activation_690[0][0]']      \n",
            "                                                                                                  \n",
            " conv2d_696 (Conv2D)         (None, 17, 17, 192)          172032    ['activation_695[0][0]']      \n",
            "                                                                                                  \n",
            " conv2d_697 (Conv2D)         (None, 17, 17, 192)          147456    ['average_pooling2d_66[0][0]']\n",
            "                                                                                                  \n",
            " batch_normalization_688 (B  (None, 17, 17, 192)          576       ['conv2d_688[0][0]']          \n",
            " atchNormalization)                                                                               \n",
            "                                                                                                  \n",
            " batch_normalization_691 (B  (None, 17, 17, 192)          576       ['conv2d_691[0][0]']          \n",
            " atchNormalization)                                                                               \n",
            "                                                                                                  \n",
            " batch_normalization_696 (B  (None, 17, 17, 192)          576       ['conv2d_696[0][0]']          \n",
            " atchNormalization)                                                                               \n",
            "                                                                                                  \n",
            " batch_normalization_697 (B  (None, 17, 17, 192)          576       ['conv2d_697[0][0]']          \n",
            " atchNormalization)                                                                               \n",
            "                                                                                                  \n",
            " activation_688 (Activation  (None, 17, 17, 192)          0         ['batch_normalization_688[0][0\n",
            " )                                                                  ]']                           \n",
            "                                                                                                  \n",
            " activation_691 (Activation  (None, 17, 17, 192)          0         ['batch_normalization_691[0][0\n",
            " )                                                                  ]']                           \n",
            "                                                                                                  \n",
            " activation_696 (Activation  (None, 17, 17, 192)          0         ['batch_normalization_696[0][0\n",
            " )                                                                  ]']                           \n",
            "                                                                                                  \n",
            " activation_697 (Activation  (None, 17, 17, 192)          0         ['batch_normalization_697[0][0\n",
            " )                                                                  ]']                           \n",
            "                                                                                                  \n",
            " mixed4 (Concatenate)        (None, 17, 17, 768)          0         ['activation_688[0][0]',      \n",
            "                                                                     'activation_691[0][0]',      \n",
            "                                                                     'activation_696[0][0]',      \n",
            "                                                                     'activation_697[0][0]']      \n",
            "                                                                                                  \n",
            " conv2d_702 (Conv2D)         (None, 17, 17, 160)          122880    ['mixed4[0][0]']              \n",
            "                                                                                                  \n",
            " batch_normalization_702 (B  (None, 17, 17, 160)          480       ['conv2d_702[0][0]']          \n",
            " atchNormalization)                                                                               \n",
            "                                                                                                  \n",
            " activation_702 (Activation  (None, 17, 17, 160)          0         ['batch_normalization_702[0][0\n",
            " )                                                                  ]']                           \n",
            "                                                                                                  \n",
            " conv2d_703 (Conv2D)         (None, 17, 17, 160)          179200    ['activation_702[0][0]']      \n",
            "                                                                                                  \n",
            " batch_normalization_703 (B  (None, 17, 17, 160)          480       ['conv2d_703[0][0]']          \n",
            " atchNormalization)                                                                               \n",
            "                                                                                                  \n",
            " activation_703 (Activation  (None, 17, 17, 160)          0         ['batch_normalization_703[0][0\n",
            " )                                                                  ]']                           \n",
            "                                                                                                  \n",
            " conv2d_699 (Conv2D)         (None, 17, 17, 160)          122880    ['mixed4[0][0]']              \n",
            "                                                                                                  \n",
            " conv2d_704 (Conv2D)         (None, 17, 17, 160)          179200    ['activation_703[0][0]']      \n",
            "                                                                                                  \n",
            " batch_normalization_699 (B  (None, 17, 17, 160)          480       ['conv2d_699[0][0]']          \n",
            " atchNormalization)                                                                               \n",
            "                                                                                                  \n",
            " batch_normalization_704 (B  (None, 17, 17, 160)          480       ['conv2d_704[0][0]']          \n",
            " atchNormalization)                                                                               \n",
            "                                                                                                  \n",
            " activation_699 (Activation  (None, 17, 17, 160)          0         ['batch_normalization_699[0][0\n",
            " )                                                                  ]']                           \n",
            "                                                                                                  \n",
            " activation_704 (Activation  (None, 17, 17, 160)          0         ['batch_normalization_704[0][0\n",
            " )                                                                  ]']                           \n",
            "                                                                                                  \n",
            " conv2d_700 (Conv2D)         (None, 17, 17, 160)          179200    ['activation_699[0][0]']      \n",
            "                                                                                                  \n",
            " conv2d_705 (Conv2D)         (None, 17, 17, 160)          179200    ['activation_704[0][0]']      \n",
            "                                                                                                  \n",
            " batch_normalization_700 (B  (None, 17, 17, 160)          480       ['conv2d_700[0][0]']          \n",
            " atchNormalization)                                                                               \n",
            "                                                                                                  \n",
            " batch_normalization_705 (B  (None, 17, 17, 160)          480       ['conv2d_705[0][0]']          \n",
            " atchNormalization)                                                                               \n",
            "                                                                                                  \n",
            " activation_700 (Activation  (None, 17, 17, 160)          0         ['batch_normalization_700[0][0\n",
            " )                                                                  ]']                           \n",
            "                                                                                                  \n",
            " activation_705 (Activation  (None, 17, 17, 160)          0         ['batch_normalization_705[0][0\n",
            " )                                                                  ]']                           \n",
            "                                                                                                  \n",
            " average_pooling2d_67 (Aver  (None, 17, 17, 768)          0         ['mixed4[0][0]']              \n",
            " agePooling2D)                                                                                    \n",
            "                                                                                                  \n",
            " conv2d_698 (Conv2D)         (None, 17, 17, 192)          147456    ['mixed4[0][0]']              \n",
            "                                                                                                  \n",
            " conv2d_701 (Conv2D)         (None, 17, 17, 192)          215040    ['activation_700[0][0]']      \n",
            "                                                                                                  \n",
            " conv2d_706 (Conv2D)         (None, 17, 17, 192)          215040    ['activation_705[0][0]']      \n",
            "                                                                                                  \n",
            " conv2d_707 (Conv2D)         (None, 17, 17, 192)          147456    ['average_pooling2d_67[0][0]']\n",
            "                                                                                                  \n",
            " batch_normalization_698 (B  (None, 17, 17, 192)          576       ['conv2d_698[0][0]']          \n",
            " atchNormalization)                                                                               \n",
            "                                                                                                  \n",
            " batch_normalization_701 (B  (None, 17, 17, 192)          576       ['conv2d_701[0][0]']          \n",
            " atchNormalization)                                                                               \n",
            "                                                                                                  \n",
            " batch_normalization_706 (B  (None, 17, 17, 192)          576       ['conv2d_706[0][0]']          \n",
            " atchNormalization)                                                                               \n",
            "                                                                                                  \n",
            " batch_normalization_707 (B  (None, 17, 17, 192)          576       ['conv2d_707[0][0]']          \n",
            " atchNormalization)                                                                               \n",
            "                                                                                                  \n",
            " activation_698 (Activation  (None, 17, 17, 192)          0         ['batch_normalization_698[0][0\n",
            " )                                                                  ]']                           \n",
            "                                                                                                  \n",
            " activation_701 (Activation  (None, 17, 17, 192)          0         ['batch_normalization_701[0][0\n",
            " )                                                                  ]']                           \n",
            "                                                                                                  \n",
            " activation_706 (Activation  (None, 17, 17, 192)          0         ['batch_normalization_706[0][0\n",
            " )                                                                  ]']                           \n",
            "                                                                                                  \n",
            " activation_707 (Activation  (None, 17, 17, 192)          0         ['batch_normalization_707[0][0\n",
            " )                                                                  ]']                           \n",
            "                                                                                                  \n",
            " mixed5 (Concatenate)        (None, 17, 17, 768)          0         ['activation_698[0][0]',      \n",
            "                                                                     'activation_701[0][0]',      \n",
            "                                                                     'activation_706[0][0]',      \n",
            "                                                                     'activation_707[0][0]']      \n",
            "                                                                                                  \n",
            " conv2d_712 (Conv2D)         (None, 17, 17, 160)          122880    ['mixed5[0][0]']              \n",
            "                                                                                                  \n",
            " batch_normalization_712 (B  (None, 17, 17, 160)          480       ['conv2d_712[0][0]']          \n",
            " atchNormalization)                                                                               \n",
            "                                                                                                  \n",
            " activation_712 (Activation  (None, 17, 17, 160)          0         ['batch_normalization_712[0][0\n",
            " )                                                                  ]']                           \n",
            "                                                                                                  \n",
            " conv2d_713 (Conv2D)         (None, 17, 17, 160)          179200    ['activation_712[0][0]']      \n",
            "                                                                                                  \n",
            " batch_normalization_713 (B  (None, 17, 17, 160)          480       ['conv2d_713[0][0]']          \n",
            " atchNormalization)                                                                               \n",
            "                                                                                                  \n",
            " activation_713 (Activation  (None, 17, 17, 160)          0         ['batch_normalization_713[0][0\n",
            " )                                                                  ]']                           \n",
            "                                                                                                  \n",
            " conv2d_709 (Conv2D)         (None, 17, 17, 160)          122880    ['mixed5[0][0]']              \n",
            "                                                                                                  \n",
            " conv2d_714 (Conv2D)         (None, 17, 17, 160)          179200    ['activation_713[0][0]']      \n",
            "                                                                                                  \n",
            " batch_normalization_709 (B  (None, 17, 17, 160)          480       ['conv2d_709[0][0]']          \n",
            " atchNormalization)                                                                               \n",
            "                                                                                                  \n",
            " batch_normalization_714 (B  (None, 17, 17, 160)          480       ['conv2d_714[0][0]']          \n",
            " atchNormalization)                                                                               \n",
            "                                                                                                  \n",
            " activation_709 (Activation  (None, 17, 17, 160)          0         ['batch_normalization_709[0][0\n",
            " )                                                                  ]']                           \n",
            "                                                                                                  \n",
            " activation_714 (Activation  (None, 17, 17, 160)          0         ['batch_normalization_714[0][0\n",
            " )                                                                  ]']                           \n",
            "                                                                                                  \n",
            " conv2d_710 (Conv2D)         (None, 17, 17, 160)          179200    ['activation_709[0][0]']      \n",
            "                                                                                                  \n",
            " conv2d_715 (Conv2D)         (None, 17, 17, 160)          179200    ['activation_714[0][0]']      \n",
            "                                                                                                  \n",
            " batch_normalization_710 (B  (None, 17, 17, 160)          480       ['conv2d_710[0][0]']          \n",
            " atchNormalization)                                                                               \n",
            "                                                                                                  \n",
            " batch_normalization_715 (B  (None, 17, 17, 160)          480       ['conv2d_715[0][0]']          \n",
            " atchNormalization)                                                                               \n",
            "                                                                                                  \n",
            " activation_710 (Activation  (None, 17, 17, 160)          0         ['batch_normalization_710[0][0\n",
            " )                                                                  ]']                           \n",
            "                                                                                                  \n",
            " activation_715 (Activation  (None, 17, 17, 160)          0         ['batch_normalization_715[0][0\n",
            " )                                                                  ]']                           \n",
            "                                                                                                  \n",
            " average_pooling2d_68 (Aver  (None, 17, 17, 768)          0         ['mixed5[0][0]']              \n",
            " agePooling2D)                                                                                    \n",
            "                                                                                                  \n",
            " conv2d_708 (Conv2D)         (None, 17, 17, 192)          147456    ['mixed5[0][0]']              \n",
            "                                                                                                  \n",
            " conv2d_711 (Conv2D)         (None, 17, 17, 192)          215040    ['activation_710[0][0]']      \n",
            "                                                                                                  \n",
            " conv2d_716 (Conv2D)         (None, 17, 17, 192)          215040    ['activation_715[0][0]']      \n",
            "                                                                                                  \n",
            " conv2d_717 (Conv2D)         (None, 17, 17, 192)          147456    ['average_pooling2d_68[0][0]']\n",
            "                                                                                                  \n",
            " batch_normalization_708 (B  (None, 17, 17, 192)          576       ['conv2d_708[0][0]']          \n",
            " atchNormalization)                                                                               \n",
            "                                                                                                  \n",
            " batch_normalization_711 (B  (None, 17, 17, 192)          576       ['conv2d_711[0][0]']          \n",
            " atchNormalization)                                                                               \n",
            "                                                                                                  \n",
            " batch_normalization_716 (B  (None, 17, 17, 192)          576       ['conv2d_716[0][0]']          \n",
            " atchNormalization)                                                                               \n",
            "                                                                                                  \n",
            " batch_normalization_717 (B  (None, 17, 17, 192)          576       ['conv2d_717[0][0]']          \n",
            " atchNormalization)                                                                               \n",
            "                                                                                                  \n",
            " activation_708 (Activation  (None, 17, 17, 192)          0         ['batch_normalization_708[0][0\n",
            " )                                                                  ]']                           \n",
            "                                                                                                  \n",
            " activation_711 (Activation  (None, 17, 17, 192)          0         ['batch_normalization_711[0][0\n",
            " )                                                                  ]']                           \n",
            "                                                                                                  \n",
            " activation_716 (Activation  (None, 17, 17, 192)          0         ['batch_normalization_716[0][0\n",
            " )                                                                  ]']                           \n",
            "                                                                                                  \n",
            " activation_717 (Activation  (None, 17, 17, 192)          0         ['batch_normalization_717[0][0\n",
            " )                                                                  ]']                           \n",
            "                                                                                                  \n",
            " mixed6 (Concatenate)        (None, 17, 17, 768)          0         ['activation_708[0][0]',      \n",
            "                                                                     'activation_711[0][0]',      \n",
            "                                                                     'activation_716[0][0]',      \n",
            "                                                                     'activation_717[0][0]']      \n",
            "                                                                                                  \n",
            " conv2d_722 (Conv2D)         (None, 17, 17, 192)          147456    ['mixed6[0][0]']              \n",
            "                                                                                                  \n",
            " batch_normalization_722 (B  (None, 17, 17, 192)          576       ['conv2d_722[0][0]']          \n",
            " atchNormalization)                                                                               \n",
            "                                                                                                  \n",
            " activation_722 (Activation  (None, 17, 17, 192)          0         ['batch_normalization_722[0][0\n",
            " )                                                                  ]']                           \n",
            "                                                                                                  \n",
            " conv2d_723 (Conv2D)         (None, 17, 17, 192)          258048    ['activation_722[0][0]']      \n",
            "                                                                                                  \n",
            " batch_normalization_723 (B  (None, 17, 17, 192)          576       ['conv2d_723[0][0]']          \n",
            " atchNormalization)                                                                               \n",
            "                                                                                                  \n",
            " activation_723 (Activation  (None, 17, 17, 192)          0         ['batch_normalization_723[0][0\n",
            " )                                                                  ]']                           \n",
            "                                                                                                  \n",
            " conv2d_719 (Conv2D)         (None, 17, 17, 192)          147456    ['mixed6[0][0]']              \n",
            "                                                                                                  \n",
            " conv2d_724 (Conv2D)         (None, 17, 17, 192)          258048    ['activation_723[0][0]']      \n",
            "                                                                                                  \n",
            " batch_normalization_719 (B  (None, 17, 17, 192)          576       ['conv2d_719[0][0]']          \n",
            " atchNormalization)                                                                               \n",
            "                                                                                                  \n",
            " batch_normalization_724 (B  (None, 17, 17, 192)          576       ['conv2d_724[0][0]']          \n",
            " atchNormalization)                                                                               \n",
            "                                                                                                  \n",
            " activation_719 (Activation  (None, 17, 17, 192)          0         ['batch_normalization_719[0][0\n",
            " )                                                                  ]']                           \n",
            "                                                                                                  \n",
            " activation_724 (Activation  (None, 17, 17, 192)          0         ['batch_normalization_724[0][0\n",
            " )                                                                  ]']                           \n",
            "                                                                                                  \n",
            " conv2d_720 (Conv2D)         (None, 17, 17, 192)          258048    ['activation_719[0][0]']      \n",
            "                                                                                                  \n",
            " conv2d_725 (Conv2D)         (None, 17, 17, 192)          258048    ['activation_724[0][0]']      \n",
            "                                                                                                  \n",
            " batch_normalization_720 (B  (None, 17, 17, 192)          576       ['conv2d_720[0][0]']          \n",
            " atchNormalization)                                                                               \n",
            "                                                                                                  \n",
            " batch_normalization_725 (B  (None, 17, 17, 192)          576       ['conv2d_725[0][0]']          \n",
            " atchNormalization)                                                                               \n",
            "                                                                                                  \n",
            " activation_720 (Activation  (None, 17, 17, 192)          0         ['batch_normalization_720[0][0\n",
            " )                                                                  ]']                           \n",
            "                                                                                                  \n",
            " activation_725 (Activation  (None, 17, 17, 192)          0         ['batch_normalization_725[0][0\n",
            " )                                                                  ]']                           \n",
            "                                                                                                  \n",
            " average_pooling2d_69 (Aver  (None, 17, 17, 768)          0         ['mixed6[0][0]']              \n",
            " agePooling2D)                                                                                    \n",
            "                                                                                                  \n",
            " conv2d_718 (Conv2D)         (None, 17, 17, 192)          147456    ['mixed6[0][0]']              \n",
            "                                                                                                  \n",
            " conv2d_721 (Conv2D)         (None, 17, 17, 192)          258048    ['activation_720[0][0]']      \n",
            "                                                                                                  \n",
            " conv2d_726 (Conv2D)         (None, 17, 17, 192)          258048    ['activation_725[0][0]']      \n",
            "                                                                                                  \n",
            " conv2d_727 (Conv2D)         (None, 17, 17, 192)          147456    ['average_pooling2d_69[0][0]']\n",
            "                                                                                                  \n",
            " batch_normalization_718 (B  (None, 17, 17, 192)          576       ['conv2d_718[0][0]']          \n",
            " atchNormalization)                                                                               \n",
            "                                                                                                  \n",
            " batch_normalization_721 (B  (None, 17, 17, 192)          576       ['conv2d_721[0][0]']          \n",
            " atchNormalization)                                                                               \n",
            "                                                                                                  \n",
            " batch_normalization_726 (B  (None, 17, 17, 192)          576       ['conv2d_726[0][0]']          \n",
            " atchNormalization)                                                                               \n",
            "                                                                                                  \n",
            " batch_normalization_727 (B  (None, 17, 17, 192)          576       ['conv2d_727[0][0]']          \n",
            " atchNormalization)                                                                               \n",
            "                                                                                                  \n",
            " activation_718 (Activation  (None, 17, 17, 192)          0         ['batch_normalization_718[0][0\n",
            " )                                                                  ]']                           \n",
            "                                                                                                  \n",
            " activation_721 (Activation  (None, 17, 17, 192)          0         ['batch_normalization_721[0][0\n",
            " )                                                                  ]']                           \n",
            "                                                                                                  \n",
            " activation_726 (Activation  (None, 17, 17, 192)          0         ['batch_normalization_726[0][0\n",
            " )                                                                  ]']                           \n",
            "                                                                                                  \n",
            " activation_727 (Activation  (None, 17, 17, 192)          0         ['batch_normalization_727[0][0\n",
            " )                                                                  ]']                           \n",
            "                                                                                                  \n",
            " mixed7 (Concatenate)        (None, 17, 17, 768)          0         ['activation_718[0][0]',      \n",
            "                                                                     'activation_721[0][0]',      \n",
            "                                                                     'activation_726[0][0]',      \n",
            "                                                                     'activation_727[0][0]']      \n",
            "                                                                                                  \n",
            " conv2d_730 (Conv2D)         (None, 17, 17, 192)          147456    ['mixed7[0][0]']              \n",
            "                                                                                                  \n",
            " batch_normalization_730 (B  (None, 17, 17, 192)          576       ['conv2d_730[0][0]']          \n",
            " atchNormalization)                                                                               \n",
            "                                                                                                  \n",
            " activation_730 (Activation  (None, 17, 17, 192)          0         ['batch_normalization_730[0][0\n",
            " )                                                                  ]']                           \n",
            "                                                                                                  \n",
            " conv2d_731 (Conv2D)         (None, 17, 17, 192)          258048    ['activation_730[0][0]']      \n",
            "                                                                                                  \n",
            " batch_normalization_731 (B  (None, 17, 17, 192)          576       ['conv2d_731[0][0]']          \n",
            " atchNormalization)                                                                               \n",
            "                                                                                                  \n",
            " activation_731 (Activation  (None, 17, 17, 192)          0         ['batch_normalization_731[0][0\n",
            " )                                                                  ]']                           \n",
            "                                                                                                  \n",
            " conv2d_728 (Conv2D)         (None, 17, 17, 192)          147456    ['mixed7[0][0]']              \n",
            "                                                                                                  \n",
            " conv2d_732 (Conv2D)         (None, 17, 17, 192)          258048    ['activation_731[0][0]']      \n",
            "                                                                                                  \n",
            " batch_normalization_728 (B  (None, 17, 17, 192)          576       ['conv2d_728[0][0]']          \n",
            " atchNormalization)                                                                               \n",
            "                                                                                                  \n",
            " batch_normalization_732 (B  (None, 17, 17, 192)          576       ['conv2d_732[0][0]']          \n",
            " atchNormalization)                                                                               \n",
            "                                                                                                  \n",
            " activation_728 (Activation  (None, 17, 17, 192)          0         ['batch_normalization_728[0][0\n",
            " )                                                                  ]']                           \n",
            "                                                                                                  \n",
            " activation_732 (Activation  (None, 17, 17, 192)          0         ['batch_normalization_732[0][0\n",
            " )                                                                  ]']                           \n",
            "                                                                                                  \n",
            " conv2d_729 (Conv2D)         (None, 8, 8, 320)            552960    ['activation_728[0][0]']      \n",
            "                                                                                                  \n",
            " conv2d_733 (Conv2D)         (None, 8, 8, 192)            331776    ['activation_732[0][0]']      \n",
            "                                                                                                  \n",
            " batch_normalization_729 (B  (None, 8, 8, 320)            960       ['conv2d_729[0][0]']          \n",
            " atchNormalization)                                                                               \n",
            "                                                                                                  \n",
            " batch_normalization_733 (B  (None, 8, 8, 192)            576       ['conv2d_733[0][0]']          \n",
            " atchNormalization)                                                                               \n",
            "                                                                                                  \n",
            " activation_729 (Activation  (None, 8, 8, 320)            0         ['batch_normalization_729[0][0\n",
            " )                                                                  ]']                           \n",
            "                                                                                                  \n",
            " activation_733 (Activation  (None, 8, 8, 192)            0         ['batch_normalization_733[0][0\n",
            " )                                                                  ]']                           \n",
            "                                                                                                  \n",
            " max_pooling2d_31 (MaxPooli  (None, 8, 8, 768)            0         ['mixed7[0][0]']              \n",
            " ng2D)                                                                                            \n",
            "                                                                                                  \n",
            " mixed8 (Concatenate)        (None, 8, 8, 1280)           0         ['activation_729[0][0]',      \n",
            "                                                                     'activation_733[0][0]',      \n",
            "                                                                     'max_pooling2d_31[0][0]']    \n",
            "                                                                                                  \n",
            " conv2d_738 (Conv2D)         (None, 8, 8, 448)            573440    ['mixed8[0][0]']              \n",
            "                                                                                                  \n",
            " batch_normalization_738 (B  (None, 8, 8, 448)            1344      ['conv2d_738[0][0]']          \n",
            " atchNormalization)                                                                               \n",
            "                                                                                                  \n",
            " activation_738 (Activation  (None, 8, 8, 448)            0         ['batch_normalization_738[0][0\n",
            " )                                                                  ]']                           \n",
            "                                                                                                  \n",
            " conv2d_735 (Conv2D)         (None, 8, 8, 384)            491520    ['mixed8[0][0]']              \n",
            "                                                                                                  \n",
            " conv2d_739 (Conv2D)         (None, 8, 8, 384)            1548288   ['activation_738[0][0]']      \n",
            "                                                                                                  \n",
            " batch_normalization_735 (B  (None, 8, 8, 384)            1152      ['conv2d_735[0][0]']          \n",
            " atchNormalization)                                                                               \n",
            "                                                                                                  \n",
            " batch_normalization_739 (B  (None, 8, 8, 384)            1152      ['conv2d_739[0][0]']          \n",
            " atchNormalization)                                                                               \n",
            "                                                                                                  \n",
            " activation_735 (Activation  (None, 8, 8, 384)            0         ['batch_normalization_735[0][0\n",
            " )                                                                  ]']                           \n",
            "                                                                                                  \n",
            " activation_739 (Activation  (None, 8, 8, 384)            0         ['batch_normalization_739[0][0\n",
            " )                                                                  ]']                           \n",
            "                                                                                                  \n",
            " conv2d_736 (Conv2D)         (None, 8, 8, 384)            442368    ['activation_735[0][0]']      \n",
            "                                                                                                  \n",
            " conv2d_737 (Conv2D)         (None, 8, 8, 384)            442368    ['activation_735[0][0]']      \n",
            "                                                                                                  \n",
            " conv2d_740 (Conv2D)         (None, 8, 8, 384)            442368    ['activation_739[0][0]']      \n",
            "                                                                                                  \n",
            " conv2d_741 (Conv2D)         (None, 8, 8, 384)            442368    ['activation_739[0][0]']      \n",
            "                                                                                                  \n",
            " average_pooling2d_70 (Aver  (None, 8, 8, 1280)           0         ['mixed8[0][0]']              \n",
            " agePooling2D)                                                                                    \n",
            "                                                                                                  \n",
            " conv2d_734 (Conv2D)         (None, 8, 8, 320)            409600    ['mixed8[0][0]']              \n",
            "                                                                                                  \n",
            " batch_normalization_736 (B  (None, 8, 8, 384)            1152      ['conv2d_736[0][0]']          \n",
            " atchNormalization)                                                                               \n",
            "                                                                                                  \n",
            " batch_normalization_737 (B  (None, 8, 8, 384)            1152      ['conv2d_737[0][0]']          \n",
            " atchNormalization)                                                                               \n",
            "                                                                                                  \n",
            " batch_normalization_740 (B  (None, 8, 8, 384)            1152      ['conv2d_740[0][0]']          \n",
            " atchNormalization)                                                                               \n",
            "                                                                                                  \n",
            " batch_normalization_741 (B  (None, 8, 8, 384)            1152      ['conv2d_741[0][0]']          \n",
            " atchNormalization)                                                                               \n",
            "                                                                                                  \n",
            " conv2d_742 (Conv2D)         (None, 8, 8, 192)            245760    ['average_pooling2d_70[0][0]']\n",
            "                                                                                                  \n",
            " batch_normalization_734 (B  (None, 8, 8, 320)            960       ['conv2d_734[0][0]']          \n",
            " atchNormalization)                                                                               \n",
            "                                                                                                  \n",
            " activation_736 (Activation  (None, 8, 8, 384)            0         ['batch_normalization_736[0][0\n",
            " )                                                                  ]']                           \n",
            "                                                                                                  \n",
            " activation_737 (Activation  (None, 8, 8, 384)            0         ['batch_normalization_737[0][0\n",
            " )                                                                  ]']                           \n",
            "                                                                                                  \n",
            " activation_740 (Activation  (None, 8, 8, 384)            0         ['batch_normalization_740[0][0\n",
            " )                                                                  ]']                           \n",
            "                                                                                                  \n",
            " activation_741 (Activation  (None, 8, 8, 384)            0         ['batch_normalization_741[0][0\n",
            " )                                                                  ]']                           \n",
            "                                                                                                  \n",
            " batch_normalization_742 (B  (None, 8, 8, 192)            576       ['conv2d_742[0][0]']          \n",
            " atchNormalization)                                                                               \n",
            "                                                                                                  \n",
            " activation_734 (Activation  (None, 8, 8, 320)            0         ['batch_normalization_734[0][0\n",
            " )                                                                  ]']                           \n",
            "                                                                                                  \n",
            " mixed9_0 (Concatenate)      (None, 8, 8, 768)            0         ['activation_736[0][0]',      \n",
            "                                                                     'activation_737[0][0]']      \n",
            "                                                                                                  \n",
            " concatenate_14 (Concatenat  (None, 8, 8, 768)            0         ['activation_740[0][0]',      \n",
            " e)                                                                  'activation_741[0][0]']      \n",
            "                                                                                                  \n",
            " activation_742 (Activation  (None, 8, 8, 192)            0         ['batch_normalization_742[0][0\n",
            " )                                                                  ]']                           \n",
            "                                                                                                  \n",
            " mixed9 (Concatenate)        (None, 8, 8, 2048)           0         ['activation_734[0][0]',      \n",
            "                                                                     'mixed9_0[0][0]',            \n",
            "                                                                     'concatenate_14[0][0]',      \n",
            "                                                                     'activation_742[0][0]']      \n",
            "                                                                                                  \n",
            " conv2d_747 (Conv2D)         (None, 8, 8, 448)            917504    ['mixed9[0][0]']              \n",
            "                                                                                                  \n",
            " batch_normalization_747 (B  (None, 8, 8, 448)            1344      ['conv2d_747[0][0]']          \n",
            " atchNormalization)                                                                               \n",
            "                                                                                                  \n",
            " activation_747 (Activation  (None, 8, 8, 448)            0         ['batch_normalization_747[0][0\n",
            " )                                                                  ]']                           \n",
            "                                                                                                  \n",
            " conv2d_744 (Conv2D)         (None, 8, 8, 384)            786432    ['mixed9[0][0]']              \n",
            "                                                                                                  \n",
            " conv2d_748 (Conv2D)         (None, 8, 8, 384)            1548288   ['activation_747[0][0]']      \n",
            "                                                                                                  \n",
            " batch_normalization_744 (B  (None, 8, 8, 384)            1152      ['conv2d_744[0][0]']          \n",
            " atchNormalization)                                                                               \n",
            "                                                                                                  \n",
            " batch_normalization_748 (B  (None, 8, 8, 384)            1152      ['conv2d_748[0][0]']          \n",
            " atchNormalization)                                                                               \n",
            "                                                                                                  \n",
            " activation_744 (Activation  (None, 8, 8, 384)            0         ['batch_normalization_744[0][0\n",
            " )                                                                  ]']                           \n",
            "                                                                                                  \n",
            " activation_748 (Activation  (None, 8, 8, 384)            0         ['batch_normalization_748[0][0\n",
            " )                                                                  ]']                           \n",
            "                                                                                                  \n",
            " conv2d_745 (Conv2D)         (None, 8, 8, 384)            442368    ['activation_744[0][0]']      \n",
            "                                                                                                  \n",
            " conv2d_746 (Conv2D)         (None, 8, 8, 384)            442368    ['activation_744[0][0]']      \n",
            "                                                                                                  \n",
            " conv2d_749 (Conv2D)         (None, 8, 8, 384)            442368    ['activation_748[0][0]']      \n",
            "                                                                                                  \n",
            " conv2d_750 (Conv2D)         (None, 8, 8, 384)            442368    ['activation_748[0][0]']      \n",
            "                                                                                                  \n",
            " average_pooling2d_71 (Aver  (None, 8, 8, 2048)           0         ['mixed9[0][0]']              \n",
            " agePooling2D)                                                                                    \n",
            "                                                                                                  \n",
            " conv2d_743 (Conv2D)         (None, 8, 8, 320)            655360    ['mixed9[0][0]']              \n",
            "                                                                                                  \n",
            " batch_normalization_745 (B  (None, 8, 8, 384)            1152      ['conv2d_745[0][0]']          \n",
            " atchNormalization)                                                                               \n",
            "                                                                                                  \n",
            " batch_normalization_746 (B  (None, 8, 8, 384)            1152      ['conv2d_746[0][0]']          \n",
            " atchNormalization)                                                                               \n",
            "                                                                                                  \n",
            " batch_normalization_749 (B  (None, 8, 8, 384)            1152      ['conv2d_749[0][0]']          \n",
            " atchNormalization)                                                                               \n",
            "                                                                                                  \n",
            " batch_normalization_750 (B  (None, 8, 8, 384)            1152      ['conv2d_750[0][0]']          \n",
            " atchNormalization)                                                                               \n",
            "                                                                                                  \n",
            " conv2d_751 (Conv2D)         (None, 8, 8, 192)            393216    ['average_pooling2d_71[0][0]']\n",
            "                                                                                                  \n",
            " batch_normalization_743 (B  (None, 8, 8, 320)            960       ['conv2d_743[0][0]']          \n",
            " atchNormalization)                                                                               \n",
            "                                                                                                  \n",
            " activation_745 (Activation  (None, 8, 8, 384)            0         ['batch_normalization_745[0][0\n",
            " )                                                                  ]']                           \n",
            "                                                                                                  \n",
            " activation_746 (Activation  (None, 8, 8, 384)            0         ['batch_normalization_746[0][0\n",
            " )                                                                  ]']                           \n",
            "                                                                                                  \n",
            " activation_749 (Activation  (None, 8, 8, 384)            0         ['batch_normalization_749[0][0\n",
            " )                                                                  ]']                           \n",
            "                                                                                                  \n",
            " activation_750 (Activation  (None, 8, 8, 384)            0         ['batch_normalization_750[0][0\n",
            " )                                                                  ]']                           \n",
            "                                                                                                  \n",
            " batch_normalization_751 (B  (None, 8, 8, 192)            576       ['conv2d_751[0][0]']          \n",
            " atchNormalization)                                                                               \n",
            "                                                                                                  \n",
            " activation_743 (Activation  (None, 8, 8, 320)            0         ['batch_normalization_743[0][0\n",
            " )                                                                  ]']                           \n",
            "                                                                                                  \n",
            " mixed9_1 (Concatenate)      (None, 8, 8, 768)            0         ['activation_745[0][0]',      \n",
            "                                                                     'activation_746[0][0]']      \n",
            "                                                                                                  \n",
            " concatenate_15 (Concatenat  (None, 8, 8, 768)            0         ['activation_749[0][0]',      \n",
            " e)                                                                  'activation_750[0][0]']      \n",
            "                                                                                                  \n",
            " activation_751 (Activation  (None, 8, 8, 192)            0         ['batch_normalization_751[0][0\n",
            " )                                                                  ]']                           \n",
            "                                                                                                  \n",
            " mixed10 (Concatenate)       (None, 8, 8, 2048)           0         ['activation_743[0][0]',      \n",
            "                                                                     'mixed9_1[0][0]',            \n",
            "                                                                     'concatenate_15[0][0]',      \n",
            "                                                                     'activation_751[0][0]']      \n",
            "                                                                                                  \n",
            " global_average_pooling2d_5  (None, 2048)                 0         ['mixed10[0][0]']             \n",
            "  (GlobalAveragePooling2D)                                                                        \n",
            "                                                                                                  \n",
            " dense_10 (Dense)            (None, 1024)                 2098176   ['global_average_pooling2d_5[0\n",
            "                                                                    ][0]']                        \n",
            "                                                                                                  \n",
            " dense_11 (Dense)            (None, 4)                    4100      ['dense_10[0][0]']            \n",
            "                                                                                                  \n",
            "==================================================================================================\n",
            "Total params: 23905060 (91.19 MB)\n",
            "Trainable params: 2102276 (8.02 MB)\n",
            "Non-trainable params: 21802784 (83.17 MB)\n",
            "__________________________________________________________________________________________________\n"
          ]
        }
      ],
      "source": [
        "import tensorflow as tf\n",
        "from tensorflow.keras.applications import InceptionV3\n",
        "from tensorflow.keras.layers import Dense, GlobalAveragePooling2D\n",
        "from tensorflow.keras.models import Model\n",
        "from tensorflow.keras.optimizers import Adam\n",
        "\n",
        "# Load InceptionV3 pre-trained model\n",
        "base_model = InceptionV3(weights='imagenet', include_top=False, input_shape=(299, 299, 3))\n",
        "\n",
        "# Freeze all layers\n",
        "for layer in base_model.layers:\n",
        "    layer.trainable = False\n",
        "\n",
        "# Unfreeze the top 2 Inception blocks (mixed 8 and mixed 9)\n",
        "for layer in base_model.layers:\n",
        "    if 'mixed8' in layer.name or 'mixed9' in layer.name:\n",
        "        layer.trainable = True\n",
        "\n",
        "# Add custom classification layers\n",
        "x = base_model.output\n",
        "x = GlobalAveragePooling2D()(x)\n",
        "x = Dense(1024, activation='relu')(x)\n",
        "predictions = Dense(4, activation='softmax')(x)\n",
        "\n",
        "# Create the model\n",
        "model = Model(inputs=base_model.input, outputs=predictions)\n",
        "\n",
        "# Compile the model\n",
        "optimizer = Adam(learning_rate=0.001)  # Adjust learning rate as needed\n",
        "model.compile(optimizer=optimizer, loss='categorical_crossentropy', metrics=['accuracy'])\n",
        "\n",
        "# Display the model summary\n",
        "model.summary()\n"
      ]
    },
    {
      "cell_type": "code",
      "execution_count": null,
      "metadata": {
        "id": "Dx1iVGvISw08"
      },
      "outputs": [],
      "source": [
        "#compile\n",
        "model.compile(optimizer='adam', loss='sparse_categorical_crossentropy',metrics=['accuracy'])"
      ]
    },
    {
      "cell_type": "code",
      "execution_count": 32,
      "metadata": {
        "id": "mpdgKOiufnDl",
        "colab": {
          "base_uri": "https://localhost:8080/"
        },
        "outputId": "50183171-f707-4c5d-d8a6-271d1ca6ff9b"
      },
      "outputs": [
        {
          "output_type": "stream",
          "name": "stderr",
          "text": [
            "<ipython-input-32-206a1d09440d>:1: UserWarning: `Model.fit_generator` is deprecated and will be removed in a future version. Please use `Model.fit`, which supports generators.\n",
            "  history1=model.fit_generator(\n"
          ]
        },
        {
          "output_type": "stream",
          "name": "stdout",
          "text": [
            "Epoch 1/10\n",
            "100/100 [==============================] - 136s 1s/step - loss: 0.2819 - accuracy: 0.9156 - val_loss: 0.1285 - val_accuracy: 0.9554\n",
            "Epoch 2/10\n",
            "100/100 [==============================] - 128s 1s/step - loss: 0.1680 - accuracy: 0.9434 - val_loss: 0.1089 - val_accuracy: 0.9678\n",
            "Epoch 3/10\n",
            "100/100 [==============================] - 110s 1s/step - loss: 0.1489 - accuracy: 0.9519 - val_loss: 0.3108 - val_accuracy: 0.9035\n",
            "Epoch 4/10\n",
            "100/100 [==============================] - 128s 1s/step - loss: 0.1249 - accuracy: 0.9572 - val_loss: 0.1441 - val_accuracy: 0.9530\n",
            "Epoch 5/10\n",
            "100/100 [==============================] - 110s 1s/step - loss: 0.1453 - accuracy: 0.9503 - val_loss: 0.1751 - val_accuracy: 0.9455\n",
            "Epoch 6/10\n",
            "100/100 [==============================] - 128s 1s/step - loss: 0.1093 - accuracy: 0.9625 - val_loss: 0.1407 - val_accuracy: 0.9493\n",
            "Epoch 7/10\n",
            "100/100 [==============================] - 110s 1s/step - loss: 0.1030 - accuracy: 0.9628 - val_loss: 0.1074 - val_accuracy: 0.9604\n",
            "Epoch 8/10\n",
            "100/100 [==============================] - 112s 1s/step - loss: 0.1214 - accuracy: 0.9578 - val_loss: 0.1363 - val_accuracy: 0.9530\n",
            "Epoch 9/10\n",
            "100/100 [==============================] - 111s 1s/step - loss: 0.1024 - accuracy: 0.9647 - val_loss: 0.1231 - val_accuracy: 0.9592\n",
            "Epoch 10/10\n",
            "100/100 [==============================] - 111s 1s/step - loss: 0.1114 - accuracy: 0.9619 - val_loss: 0.1322 - val_accuracy: 0.9592\n"
          ]
        }
      ],
      "source": [
        "history1=model.fit_generator(\n",
        "    train_generator,\n",
        "    steps_per_epoch=100,\n",
        "    epochs=10,\n",
        "    validation_data=validation_generator,\n",
        "    validation_steps=None\n",
        ")"
      ]
    },
    {
      "cell_type": "code",
      "execution_count": 33,
      "metadata": {
        "colab": {
          "base_uri": "https://localhost:8080/",
          "height": 472
        },
        "id": "_M-BWKdvcQ2c",
        "outputId": "36f302b8-cc0e-4b6d-b7ae-eea6ddb9f454"
      },
      "outputs": [
        {
          "output_type": "display_data",
          "data": {
            "text/plain": [
              "<Figure size 640x480 with 1 Axes>"
            ],
            "image/png": "[encoded data removed]"
          },
          "metadata": {}
        }
      ],
      "source": [
        "#Baseline model performance graph\n",
        "Model_Accuracy = plt.gcf()\n",
        "plt.plot(history1.history['loss'])\n",
        "plt.plot(history1.history['val_loss'])\n",
        "plt.axis(ymin=0,ymax=4)\n",
        "plt.grid()\n",
        "plt.title('Model Loss')\n",
        "plt.ylabel('Accuracy')\n",
        "plt.xlabel('Epochs')\n",
        "plt.legend(['train', 'validation'])\n",
        "plt.show()"
      ]
    },
    {
      "cell_type": "code",
      "execution_count": 34,
      "metadata": {
        "colab": {
          "base_uri": "https://localhost:8080/",
          "height": 472
        },
        "id": "KEk937Et3ZqK",
        "outputId": "081b1e65-9dc9-4f80-9c9b-5843d86d5dbe"
      },
      "outputs": [
        {
          "output_type": "display_data",
          "data": {
            "text/plain": [
              "<Figure size 640x480 with 1 Axes>"
            ],
            "image/png": "[encoded data removed]"
          },
          "metadata": {}
        }
      ],
      "source": [
        "#Baseline model performance graph\n",
        "Model_Accuracy = plt.gcf()\n",
        "plt.plot(history1.history['accuracy'])\n",
        "plt.plot(history1.history['val_accuracy'])\n",
        "plt.axis(ymin=0.4,ymax=1)\n",
        "plt.grid()\n",
        "plt.title('Model Accuracy')\n",
        "plt.ylabel('Accuracy')\n",
        "plt.xlabel('Epochs')\n",
        "plt.legend(['train', 'validation'])\n",
        "plt.show()"
      ]
    },
    {
      "cell_type": "code",
      "execution_count": 35,
      "metadata": {
        "colab": {
          "base_uri": "https://localhost:8080/"
        },
        "id": "G3LxUvv2cYwa",
        "outputId": "ee781c6a-66f9-49f8-a30c-511b8912623b"
      },
      "outputs": [
        {
          "output_type": "stream",
          "name": "stdout",
          "text": [
            "Found 816 images belonging to 4 classes.\n"
          ]
        },
        {
          "output_type": "stream",
          "name": "stderr",
          "text": [
            "<ipython-input-35-89dc96f8d395>:6: UserWarning: `Model.evaluate_generator` is deprecated and will be removed in a future version. Please use `Model.evaluate`, which supports generators.\n",
            "  results = model.evaluate_generator(\n",
            "WARNING:tensorflow:Your input ran out of data; interrupting training. Make sure that your dataset or generator can generate at least `steps_per_epoch * epochs` batches (in this case, 1000 batches). You may need to use the repeat() function when building your dataset.\n"
          ]
        },
        {
          "output_type": "stream",
          "name": "stdout",
          "text": [
            "Final test accuracy: 97.18137383460999\n"
          ]
        }
      ],
      "source": [
        "test_generator = test_datagen.flow_from_directory(\n",
        " '/content/drive/MyDrive/imagewoof_final_split/test',\n",
        " target_size=(299, 299),\n",
        " batch_size=16,\n",
        " class_mode='categorical')\n",
        "results = model.evaluate_generator(\n",
        " test_generator,\n",
        " steps=1000)\n",
        "print('Final test accuracy:', (results[1]*100.0))"
      ]
    },
    {
      "cell_type": "code",
      "execution_count": 36,
      "metadata": {
        "id": "WermWNX_1PI-",
        "colab": {
          "base_uri": "https://localhost:8080/"
        },
        "outputId": "437a084e-d1c7-46d2-ad16-99a6731393ec"
      },
      "outputs": [
        {
          "output_type": "stream",
          "name": "stderr",
          "text": [
            "/usr/local/lib/python3.10/dist-packages/keras/src/engine/training.py:3103: UserWarning: You are saving your model as an HDF5 file via `model.save()`. This file format is considered legacy. We recommend using instead the native Keras format, e.g. `model.save('my_model.keras')`.\n",
            "  saving_api.save_model(\n"
          ]
        }
      ],
      "source": [
        "#Saving baseline model as h5 format\n",
        "model.save('/content/drive/MyDrive/models/Fine_tuned_InceptionV3.h5')"
      ]
    },
    {
      "cell_type": "code",
      "execution_count": null,
      "metadata": {
        "colab": {
          "base_uri": "https://localhost:8080/"
        },
        "id": "cwpPUiPtdFCs",
        "outputId": "dd0df022-cbb1-4a8c-aa7d-a2b2ab643ce1"
      },
      "outputs": [
        {
          "name": "stdout",
          "output_type": "stream",
          "text": [
            "1/1 [==============================] - 0s 39ms/step\n",
            "[[1. 0. 0. 0. 0. 0.]]\n"
          ]
        }
      ],
      "source": [
        "import cv2\n",
        "import numpy as np\n",
        "\n",
        "\n",
        "img = cv2.imread('/content/t.jpeg')\n",
        "img = cv2.resize(img,(64,64))\n",
        "img = np.reshape(img,[1,64,64,3])\n",
        "\n",
        "classes = model.predict(img)\n",
        "\n",
        "print(classes)"
      ]
    },
    {
      "cell_type": "code",
      "execution_count": null,
      "metadata": {
        "id": "A0UjDPDk-1dr"
      },
      "outputs": [],
      "source": [
        "#Data Augmentation\n",
        "from keras.preprocessing import image\n",
        "from keras.preprocessing.image import ImageDataGenerator\n"
      ]
    },
    {
      "cell_type": "code",
      "execution_count": null,
      "metadata": {
        "id": "Zv5IcmuK0wPJ"
      },
      "outputs": [],
      "source": [
        "#Building a Fine Tuned Model\n",
        "#generators\n",
        "batch_size=32\n",
        "\n",
        "train_datagen= ImageDataGenerator(\n",
        "    rescale=1./255,\n",
        "    rotation_range=30,\n",
        "    shear_range=0.2,\n",
        "    zoom_range=0.2,\n",
        "    horizontal_flip=True,\n",
        "    width_shift_range=0.2,\n",
        "    height_shift_range=0.2\n",
        ")\n",
        "val_datagen= ImageDataGenerator(\n",
        "    rescale=1./255,\n",
        "    rotation_range=30,\n",
        "    shear_range=0.2,\n",
        "    zoom_range=0.2,\n",
        "    horizontal_flip=True,\n",
        "    width_shift_range=0.2,\n",
        "    height_shift_range=0.2\n",
        ")\n",
        "test_datagen=ImageDataGenerator(rescale=1./255)"
      ]
    },
    {
      "cell_type": "code",
      "execution_count": null,
      "metadata": {
        "colab": {
          "base_uri": "https://localhost:8080/"
        },
        "id": "hyp7qkOgAcPS",
        "outputId": "df332469-d295-4c58-86c8-67c0d210d98c"
      },
      "outputs": [
        {
          "name": "stdout",
          "output_type": "stream",
          "text": [
            "Found 5664 images belonging to 6 classes.\n",
            "Found 1212 images belonging to 6 classes.\n",
            "Found 1224 images belonging to 6 classes.\n"
          ]
        }
      ],
      "source": [
        "#Generate Augmented Data\n",
        "train_generator=train_datagen.flow_from_directory(\n",
        "    '/content/drive/MyDrive/Imagenette/train',\n",
        "    target_size=(64,64),\n",
        "    batch_size=batch_size,\n",
        "    class_mode='categorical'\n",
        ")\n",
        "validation_generator = val_datagen.flow_from_directory(\n",
        "'/content/drive/MyDrive/Imagenette/val',\n",
        " target_size=(64, 64),\n",
        " batch_size=batch_size,\n",
        " class_mode='categorical')\n",
        "\n",
        "test_generator=test_datagen.flow_from_directory(\n",
        "    '/content/drive/MyDrive/Imagenette/test',\n",
        "    target_size=(64, 64),\n",
        "    batch_size=20,\n",
        "    class_mode='categorical'\n",
        ")"
      ]
    },
    {
      "cell_type": "code",
      "execution_count": null,
      "metadata": {
        "colab": {
          "background_save": true
        },
        "id": "9fjcDAT-8fYZ",
        "outputId": "8c4f8643-ebc3-4c3d-fa83-ea161458b5c4"
      },
      "outputs": [
        {
          "name": "stdout",
          "output_type": "stream",
          "text": [
            "Model: \"sequential_15\"\n",
            "_________________________________________________________________\n",
            " Layer (type)                Output Shape              Param #   \n",
            "=================================================================\n",
            " conv2d_56 (Conv2D)          (None, 62, 62, 32)        896       \n",
            "                                                                 \n",
            " conv2d_57 (Conv2D)          (None, 60, 60, 32)        9248      \n",
            "                                                                 \n",
            " max_pooling2d_28 (MaxPooli  (None, 30, 30, 32)        0         \n",
            " ng2D)                                                           \n",
            "                                                                 \n",
            " conv2d_58 (Conv2D)          (None, 28, 28, 64)        18496     \n",
            "                                                                 \n",
            " conv2d_59 (Conv2D)          (None, 26, 26, 64)        36928     \n",
            "                                                                 \n",
            " max_pooling2d_29 (MaxPooli  (None, 13, 13, 64)        0         \n",
            " ng2D)                                                           \n",
            "                                                                 \n",
            " flatten_14 (Flatten)        (None, 10816)             0         \n",
            "                                                                 \n",
            " dense_28 (Dense)            (None, 512)               5538304   \n",
            "                                                                 \n",
            " dense_29 (Dense)            (None, 6)                 3078      \n",
            "                                                                 \n",
            "=================================================================\n",
            "Total params: 5606950 (21.39 MB)\n",
            "Trainable params: 5606950 (21.39 MB)\n",
            "Non-trainable params: 0 (0.00 Byte)\n",
            "_________________________________________________________________\n"
          ]
        }
      ],
      "source": [
        "#Build Model\n",
        "#Building Baseline CNN Model\n",
        "\n",
        "model = Sequential()\n",
        "\n",
        "#Add Convolution Layers -32 filters\n",
        "model.add(Conv2D(32, kernel_size=(3,3),kernel_initializer='he_normal',dilation_rate=(1,1), strides=(1,1),activation='relu', input_shape=(64,64,3), kernel_regularizer=tf.keras.regularizers.l2(0.03)))\n",
        "#model.add(BatchNormalization())\n",
        "model.add(Conv2D(32, kernel_size=(3,3),kernel_initializer='he_normal',dilation_rate=(1,1), strides=(1,1),activation='relu'))\n",
        "#model.add(BatchNormalization())\n",
        "#Add pooling\n",
        "model.add(MaxPooling2D(pool_size=(2,2)))\n",
        "\n",
        "#Add Convolution Layers -64 filters\n",
        "model.add(Conv2D(64, kernel_size=(3,3), dilation_rate=(1,1),kernel_initializer='he_normal',strides=(1,1),activation='relu'))\n",
        "#model.add(BatchNormalization())\n",
        "model.add(Conv2D(64, kernel_size=(3,3), dilation_rate=(1,1),kernel_initializer='he_normal',strides=(1,1),activation='relu'))\n",
        "#model.add(BatchNormalization())\n",
        "#Add Pooling\n",
        "model.add(MaxPooling2D(pool_size=(2,2)))\n",
        "\n",
        "#Flatten Layers into 1D\n",
        "model.add(Flatten())\n",
        "\n",
        "#Fully Connected Nueral Network\n",
        "model.add(Dense(512, activation='relu'))\n",
        "#model.add(Dropout(0.1))\n",
        "model.add(Dense(6, activation='softmax'))\n",
        "\n",
        "#Model summary\n",
        "model.summary()"
      ]
    },
    {
      "cell_type": "code",
      "execution_count": null,
      "metadata": {
        "colab": {
          "background_save": true
        },
        "id": "pUgXaQmC-T7F"
      },
      "outputs": [],
      "source": [
        "#compile fine tuned model\n",
        "model.compile(optimizer='adam', loss='categorical_crossentropy',metrics=['accuracy'])"
      ]
    },
    {
      "cell_type": "code",
      "execution_count": null,
      "metadata": {
        "colab": {
          "background_save": true,
          "base_uri": "https://localhost:8080/"
        },
        "id": "jI-wELckGUAU",
        "outputId": "eb788424-9e9e-4f7c-daa0-0f4a13a6442a"
      },
      "outputs": [
        {
          "name": "stderr",
          "output_type": "stream",
          "text": [
            "<ipython-input-135-3e8b28a379df>:1: UserWarning: `Model.fit_generator` is deprecated and will be removed in a future version. Please use `Model.fit`, which supports generators.\n",
            "  history1=model.fit_generator(\n"
          ]
        },
        {
          "name": "stdout",
          "output_type": "stream",
          "text": [
            "Epoch 1/30\n",
            "50/50 [==============================] - ETA: 0s - loss: 1.9255 - accuracy: 0.5487"
          ]
        },
        {
          "name": "stderr",
          "output_type": "stream",
          "text": [
            "WARNING:tensorflow:Your input ran out of data; interrupting training. Make sure that your dataset or generator can generate at least `steps_per_epoch * epochs` batches (in this case, 50 batches). You may need to use the repeat() function when building your dataset.\n"
          ]
        },
        {
          "name": "stdout",
          "output_type": "stream",
          "text": [
            "50/50 [==============================] - 57s 1s/step - loss: 1.9255 - accuracy: 0.5487 - val_loss: 1.8581 - val_accuracy: 0.5817\n",
            "Epoch 2/30\n",
            "50/50 [==============================] - 35s 691ms/step - loss: 1.7655 - accuracy: 0.6087\n",
            "Epoch 3/30\n",
            "50/50 [==============================] - 34s 665ms/step - loss: 1.7354 - accuracy: 0.5713\n",
            "Epoch 4/30\n",
            "50/50 [==============================] - 33s 657ms/step - loss: 1.6560 - accuracy: 0.6231\n",
            "Epoch 5/30\n",
            "50/50 [==============================] - 34s 680ms/step - loss: 1.6017 - accuracy: 0.6281\n",
            "Epoch 6/30\n",
            "50/50 [==============================] - 34s 673ms/step - loss: 1.5532 - accuracy: 0.6294\n",
            "Epoch 7/30\n",
            "50/50 [==============================] - 35s 699ms/step - loss: 1.5028 - accuracy: 0.6363\n",
            "Epoch 8/30\n",
            "50/50 [==============================] - 33s 654ms/step - loss: 1.4526 - accuracy: 0.6494\n",
            "Epoch 9/30\n",
            "50/50 [==============================] - 34s 675ms/step - loss: 1.4161 - accuracy: 0.6637\n",
            "Epoch 10/30\n",
            "50/50 [==============================] - 34s 670ms/step - loss: 1.3758 - accuracy: 0.6675\n",
            "Epoch 11/30\n",
            "50/50 [==============================] - 35s 691ms/step - loss: 1.3765 - accuracy: 0.6575\n",
            "Epoch 12/30\n",
            "50/50 [==============================] - 36s 723ms/step - loss: 1.3753 - accuracy: 0.6506\n",
            "Epoch 13/30\n",
            "50/50 [==============================] - 34s 665ms/step - loss: 1.3387 - accuracy: 0.6744\n",
            "Epoch 14/30\n",
            "50/50 [==============================] - 33s 662ms/step - loss: 1.3311 - accuracy: 0.6619\n",
            "Epoch 15/30\n",
            "50/50 [==============================] - 33s 665ms/step - loss: 1.1990 - accuracy: 0.7063\n",
            "Epoch 16/30\n",
            "50/50 [==============================] - 33s 662ms/step - loss: 1.2454 - accuracy: 0.6881\n",
            "Epoch 17/30\n",
            "50/50 [==============================] - 35s 686ms/step - loss: 1.2198 - accuracy: 0.6787\n",
            "Epoch 18/30\n",
            "50/50 [==============================] - 36s 709ms/step - loss: 1.2652 - accuracy: 0.6556\n",
            "Epoch 19/30\n",
            "50/50 [==============================] - 33s 655ms/step - loss: 1.1485 - accuracy: 0.7013\n",
            "Epoch 20/30\n",
            "50/50 [==============================] - 34s 674ms/step - loss: 1.1645 - accuracy: 0.6994\n",
            "Epoch 21/30\n",
            "50/50 [==============================] - 33s 660ms/step - loss: 1.1053 - accuracy: 0.7125\n",
            "Epoch 22/30\n",
            "50/50 [==============================] - 33s 653ms/step - loss: 1.1318 - accuracy: 0.7056\n",
            "Epoch 23/30\n",
            "50/50 [==============================] - 33s 659ms/step - loss: 1.1006 - accuracy: 0.7075\n",
            "Epoch 24/30\n",
            "50/50 [==============================] - 33s 651ms/step - loss: 1.1237 - accuracy: 0.6994\n",
            "Epoch 25/30\n",
            "50/50 [==============================] - 33s 655ms/step - loss: 1.0815 - accuracy: 0.7138\n",
            "Epoch 26/30\n",
            "50/50 [==============================] - 35s 692ms/step - loss: 1.0913 - accuracy: 0.7050\n",
            "Epoch 27/30\n",
            "50/50 [==============================] - 33s 655ms/step - loss: 1.0334 - accuracy: 0.7375\n",
            "Epoch 28/30\n",
            "50/50 [==============================] - 34s 662ms/step - loss: 1.0903 - accuracy: 0.7019\n",
            "Epoch 29/30\n",
            "50/50 [==============================] - 34s 674ms/step - loss: 1.0483 - accuracy: 0.7150\n",
            "Epoch 30/30\n",
            "50/50 [==============================] - 33s 661ms/step - loss: 0.9989 - accuracy: 0.7231\n"
          ]
        }
      ],
      "source": [
        "history1=model.fit_generator(\n",
        "    train_generator,\n",
        "    steps_per_epoch=50,\n",
        "    epochs=30,\n",
        "    validation_data=validation_generator,\n",
        "    validation_steps=50\n",
        ")"
      ]
    },
    {
      "cell_type": "code",
      "execution_count": null,
      "metadata": {
        "colab": {
          "base_uri": "https://localhost:8080/",
          "height": 472
        },
        "id": "yoS9y5zIx01x",
        "outputId": "e518e882-8aec-4ab4-a3d9-72b6a98dfc66"
      },
      "outputs": [
        {
          "data": {
            "image/png": "[encoded data removed]",
            "text/plain": [
              "<Figure size 640x480 with 1 Axes>"
            ]
          },
          "metadata": {},
          "output_type": "display_data"
        }
      ],
      "source": [
        "#Baseline model performance graph\n",
        "Model_Accuracy = plt.gcf()\n",
        "plt.plot(history1.history['loss'])\n",
        "plt.plot(history1.history['val_loss'])\n",
        "plt.axis(ymin=0,ymax=4)\n",
        "plt.grid()\n",
        "plt.title('Model Loss')\n",
        "plt.ylabel('Accuracy')\n",
        "plt.xlabel('Epochs')\n",
        "plt.legend(['train', 'validation'])\n",
        "plt.show()"
      ]
    },
    {
      "cell_type": "code",
      "execution_count": null,
      "metadata": {
        "colab": {
          "base_uri": "https://localhost:8080/",
          "height": 472
        },
        "id": "TWLbKRTXl8X2",
        "outputId": "4c4cf26d-33d2-4074-cc46-0110b0983f51"
      },
      "outputs": [
        {
          "data": {
            "image/png": "[encoded data removed]",
            "text/plain": [
              "<Figure size 640x480 with 1 Axes>"
            ]
          },
          "metadata": {},
          "output_type": "display_data"
        }
      ],
      "source": [
        "#Baseline model performance graph\n",
        "Model_Accuracy = plt.gcf()\n",
        "plt.plot(history1.history['accuracy'])\n",
        "plt.plot(history1.history['val_accuracy'])\n",
        "plt.axis(ymin=0.4,ymax=1)\n",
        "plt.grid()\n",
        "plt.title('Model Accuracy')\n",
        "plt.ylabel('Accuracy')\n",
        "plt.xlabel('Epochs')\n",
        "plt.legend(['train', 'validation'])\n",
        "plt.show()"
      ]
    },
    {
      "cell_type": "code",
      "execution_count": null,
      "metadata": {
        "colab": {
          "base_uri": "https://localhost:8080/"
        },
        "id": "h1DmURTbyhIi",
        "outputId": "99967ff8-3727-4cd9-b23e-7863149f2ee1"
      },
      "outputs": [
        {
          "name": "stdout",
          "output_type": "stream",
          "text": [
            "Found 1224 images belonging to 6 classes.\n"
          ]
        },
        {
          "name": "stderr",
          "output_type": "stream",
          "text": [
            "<ipython-input-129-a1fe71b6bca9>:6: UserWarning: `Model.evaluate_generator` is deprecated and will be removed in a future version. Please use `Model.evaluate`, which supports generators.\n",
            "  results = model.evaluate_generator(\n",
            "WARNING:tensorflow:Your input ran out of data; interrupting training. Make sure that your dataset or generator can generate at least `steps_per_epoch * epochs` batches (in this case, 1000 batches). You may need to use the repeat() function when building your dataset.\n"
          ]
        },
        {
          "name": "stdout",
          "output_type": "stream",
          "text": [
            "Final test accuracy: 67.15686321258545\n"
          ]
        }
      ],
      "source": [
        "test_generator = test_datagen.flow_from_directory(\n",
        " '/content/drive/MyDrive/Imagenette/test',\n",
        " target_size=(64, 64),\n",
        " batch_size=20,\n",
        " class_mode='categorical')\n",
        "results = model.evaluate_generator(\n",
        " test_generator,\n",
        " steps=1000)\n",
        "print('Final test accuracy:', (results[1]*100.0))"
      ]
    },
    {
      "cell_type": "code",
      "execution_count": 12,
      "metadata": {
        "colab": {
          "base_uri": "https://localhost:8080/"
        },
        "id": "sLrSJzypxT3_",
        "outputId": "f4e53078-efee-4bba-aa05-ba284d4d99ac"
      },
      "outputs": [
        {
          "output_type": "stream",
          "name": "stdout",
          "text": [
            "Error deleting folder: [Errno 2] No such file or directory: 'val'\n"
          ]
        }
      ],
      "source": [
        "import shutil\n",
        "import os\n",
        "\n",
        "# Define the folder path you want to delete\n",
        "folder_path = '/content/drive/MyDrive/imagewoof'\n",
        "\n",
        "# Function to delete a folder recursively\n",
        "def delete_folder(folder_path):\n",
        "    try:\n",
        "        shutil.rmtree(folder_path)\n",
        "        print(f\"Folder '{folder_path}' successfully deleted.\")\n",
        "    except Exception as e:\n",
        "        print(f\"Error deleting folder: {e}\")\n",
        "\n",
        "# Check if the folder exists\n",
        "if os.path.exists(folder_path):\n",
        "    # Delete the folder\n",
        "    delete_folder(folder_path)\n",
        "else:\n",
        "    print(f\"The folder '{folder_path}' does not exist.\")\n"
      ]
    },
    {
      "cell_type": "code",
      "execution_count": null,
      "metadata": {
        "id": "7LqIAK0ezEIQ"
      },
      "outputs": [],
      "source": []
    }
  ]
}